{
 "cells": [
  {
   "cell_type": "markdown",
   "metadata": {},
   "source": [
    "### Read caffe weights and save them in numpy"
   ]
  },
  {
   "cell_type": "code",
   "execution_count": null,
   "metadata": {},
   "outputs": [],
   "source": [
    "# code to convert MSGNET from caffe to npy\n",
    "import caffe\n",
    "import argparse\n",
    "import numpy as np\n",
    "from collections import OrderedDict"
   ]
  },
  {
   "cell_type": "code",
   "execution_count": null,
   "metadata": {},
   "outputs": [],
   "source": [
    "# parser = argparse.ArgumentParser(formatter_class=argparse.ArgumentDefaultsHelpFormatter)\n",
    "# parser.add_argument('--proto-path', type=str, default=\"./models/NYUV2/deploy.prototxt\")\n",
    "# parser.add_argument('--caffemodel-path', type=str, default=\"./models/NYUV2/cvpr_nyuv2.caffemodel\")\n",
    "# parser.add_argument('--output-path', type=str, default=\"./caffe_params.npy\")\n",
    "proto_path = \"./models/NYUV2/deploy.prototxt\"\n",
    "caffemodel_path = \"./models/NYUV2/cvpr_nyuv2.caffemodel\"\n",
    "npy_path = \"./caffe_params_nyuv2.npy\""
   ]
  },
  {
   "cell_type": "code",
   "execution_count": 13,
   "metadata": {},
   "outputs": [
    {
     "name": "stdout",
     "output_type": "stream",
     "text": [
      "['', '/home/markn1/DORN/caffe/python', '/home/markn1/DORN/caffe/pylayer', '/home/markn1/DORN', '/home/markn1/anaconda3/envs/caffe/lib/python27.zip', '/home/markn1/anaconda3/envs/caffe/lib/python2.7', '/home/markn1/anaconda3/envs/caffe/lib/python2.7/plat-linux2', '/home/markn1/anaconda3/envs/caffe/lib/python2.7/lib-tk', '/home/markn1/anaconda3/envs/caffe/lib/python2.7/lib-old', '/home/markn1/anaconda3/envs/caffe/lib/python2.7/lib-dynload', '/home/markn1/anaconda3/envs/caffe/lib/python2.7/site-packages', '/home/markn1/anaconda3/envs/caffe/lib/python2.7/site-packages/IPython/extensions', '/home/markn1/.ipython']\n"
     ]
    }
   ],
   "source": [
    "# args = parser.parse_args()\n",
    "net = caffe.Net(proto_path, caffemodel_path, caffe.TRAIN)\n",
    "\n",
    "layers = OrderedDict()\n",
    "for name, params in net.params.items():\n",
    "    layers[name] = {}\n",
    "    # probably only works for DORN's caffe model...\n",
    "    if \"bn\" in name: # batchnorm\n",
    "        print(\"{} left: {}\".format(name, len(params) - 4))\n",
    "        layers[name][\"scale\"] = params[0].data\n",
    "        layers[name][\"shift\"] = params[1].data\n",
    "        layers[name][\"mean\"] = params[2].data\n",
    "        layers[name][\"var\"] = params[3].data\n",
    "    elif \"ip\" in name: # inner product (i.e. fully connected)\n",
    "        print(\"{} left: {}\".format(name, len(params) - 2))\n",
    "        layers[name][\"weight\"] = params[0].data\n",
    "        layers[name][\"bias\"] = params[1].data\n",
    "    else: # convolution\n",
    "        layers[name][\"weight\"] = params[0].data\n",
    "        if len(params) == 2:\n",
    "            print(\"{} left: {}\".format(name, len(params) - 2))\n",
    "            layers[name][\"bias\"] = params[1].data\n",
    "        else:\n",
    "            print(\"{} left: {}\".format(name, len(params) - 1))\n",
    "# Save layers to file\n",
    "with open(npy_path, \"w\") as f:\n",
    "    print(\"saving to {}\".format(npy_path))\n",
    "    np.save(f, layers)"
   ]
  },
  {
   "cell_type": "markdown",
   "metadata": {},
   "source": [
    "### Load numpy file and pytorch network"
   ]
  },
  {
   "cell_type": "code",
   "execution_count": 14,
   "metadata": {},
   "outputs": [],
   "source": [
    "import numpy as np\n",
    "import torch\n",
    "import torch.nn as nn\n",
    "# import caffe.proto.caffe_pb2 as caffe_pb2\n",
    "# import google.protobuf.text_format as text_format\n",
    "# from caffe2pytorch.caffenet import *\n",
    "\n",
    "# net = caffe_pb2.NetParameter()\n",
    "# with open('./models/NYUV2/deploy.prototxt', 'r') as f:\n",
    "#     net = text_format.Merge(str(f.read()), net)\n",
    "# print(net)"
   ]
  },
  {
   "cell_type": "code",
   "execution_count": 22,
   "metadata": {},
   "outputs": [],
   "source": [
    "layers = np.load(\"./caffe_params.npy\", encoding=\"latin1\")\n",
    "layers = layers[()] # Weird indexing thing\n",
    "# print(layers['ip1/depth'][\"weight\"].shape)\n",
    "# print(layers[\"conv1_1_3x3_s2/bn\"].keys())\n",
    "new_layers = {}\n",
    "for key in layers:\n",
    "    new_key = key.replace(\"/\", \"_\")\n",
    "    new_layers[new_key] = layers[key]\n",
    "layers = new_layers"
   ]
  },
  {
   "cell_type": "code",
   "execution_count": 24,
   "metadata": {},
   "outputs": [
    {
     "name": "stdout",
     "output_type": "stream",
     "text": [
      "conv2_3_1x1_reduce\n",
      "conv4_12_3x3\n",
      "conv3_1_1x1_increase\n",
      "conv5_2_3x3\n",
      "conv1_2_3x3\n",
      "conv4_20_3x3\n",
      "conv3_2_1x1_reduce\n",
      "conv4_23_1x1_increase\n",
      "conv4_7_3x3\n",
      "conv4_3_3x3\n",
      "conv4_5_3x3\n",
      "conv5_1_1x1_reduce\n",
      "conv4_14_1x1_reduce\n",
      "conv4_22_1x1_increase\n",
      "conv4_19_1x1_reduce\n",
      "conv4_4_1x1_increase\n",
      "conv4_17_3x3\n",
      "conv4_8_1x1_increase\n",
      "conv2_2_3x3\n",
      "conv4_16_1x1_increase\n",
      "conv2_2_1x1_increase\n",
      "aspp_1_soft\n",
      "conv2_2_1x1_reduce\n",
      "conv6_4_soft\n",
      "conv6_5_soft\n",
      "conv4_11_3x3\n",
      "conv3_1_1x1_proj\n",
      "conv4_9_1x1_reduce\n",
      "conv4_1_1x1_proj\n",
      "conv4_21_1x1_reduce\n",
      "conv4_20_1x1_increase\n",
      "conv4_19_3x3\n",
      "conv4_15_1x1_reduce\n",
      "conv4_21_3x3\n",
      "conv4_10_3x3\n",
      "conv3_1_3x3\n",
      "conv4_7_1x1_increase\n",
      "conv5_1_1x1_proj\n",
      "conv4_1_1x1_reduce\n",
      "conv1_3_3x3\n",
      "conv3_4_1x1_reduce\n",
      "aspp_3_soft\n",
      "conv4_6_3x3\n",
      "conv4_22_1x1_reduce\n",
      "conv4_18_1x1_reduce\n",
      "conv3_4_1x1_increase\n",
      "conv5_2_1x1_increase\n",
      "conv6_1_soft\n",
      "conv2_1_1x1_reduce\n",
      "conv4_23_3x3\n",
      "conv4_3_1x1_reduce\n",
      "conv5_3_1x1_reduce\n",
      "conv4_2_3x3\n",
      "conv2_3_1x1_increase\n",
      "conv4_4_3x3\n",
      "conv4_6_1x1_reduce\n",
      "conv4_11_1x1_reduce\n",
      "conv3_2_1x1_increase\n",
      "conv1_1_3x3_s2\n",
      "conv4_9_1x1_increase\n",
      "conv4_13_1x1_increase\n",
      "conv5_3_1x1_increase\n",
      "conv3_3_1x1_reduce\n",
      "conv4_19_1x1_increase\n",
      "conv2_1_3x3\n",
      "conv4_8_3x3\n",
      "conv4_8_1x1_reduce\n",
      "conv5_2_1x1_reduce\n",
      "conv4_7_1x1_reduce\n",
      "conv4_23_1x1_reduce\n",
      "conv4_18_3x3\n",
      "conv3_4_3x3\n",
      "conv8\n",
      "conv5_1_1x1_increase\n",
      "conv5_1_3x3\n",
      "conv4_21_1x1_increase\n",
      "conv2_1_1x1_increase\n",
      "conv4_15_3x3\n",
      "conv4_10_1x1_reduce\n",
      "conv4_16_3x3\n",
      "conv3_3_1x1_increase\n",
      "conv4_9_3x3\n",
      "conv3_3_3x3\n",
      "aspp_2_soft\n",
      "conv4_16_1x1_reduce\n",
      "conv5_3_3x3\n",
      "conv4_2_1x1_increase\n",
      "conv7_soft\n",
      "conv4_6_1x1_increase\n",
      "conv4_13_3x3\n",
      "conv4_4_1x1_reduce\n",
      "conv2_1_1x1_proj\n",
      "conv4_10_1x1_increase\n",
      "conv4_20_1x1_reduce\n",
      "conv6_2_soft\n",
      "conv3_1_1x1_reduce\n",
      "conv6_3_soft\n",
      "conv4_22_3x3\n",
      "conv4_3_1x1_increase\n",
      "conv4_1_1x1_increase\n",
      "conv4_18_1x1_increase\n",
      "conv4_12_1x1_increase\n",
      "aspp_4_soft\n",
      "conv4_2_1x1_reduce\n",
      "conv4_17_1x1_increase\n",
      "conv3_2_3x3\n",
      "conv4_15_1x1_increase\n",
      "conv4_5_1x1_reduce\n",
      "conv4_14_3x3\n",
      "conv4_14_1x1_increase\n",
      "conv4_12_1x1_reduce\n",
      "conv4_17_1x1_reduce\n",
      "conv4_11_1x1_increase\n",
      "conv4_1_3x3\n",
      "conv2_3_3x3\n",
      "conv4_5_1x1_increase\n",
      "conv4_13_1x1_reduce\n"
     ]
    }
   ],
   "source": [
    "state_dict = {}\n",
    "for layer_name in layers:\n",
    "    if \"bn\" in layer_name:\n",
    "        state_dict[layer_name + \".weight\"] = torch.from_numpy(layers[layer_name][\"scale\"])\n",
    "        state_dict[layer_name + \".bias\"] = torch.from_numpy(layers[layer_name][\"shift\"])\n",
    "        state_dict[layer_name + \".running_mean\"] = torch.from_numpy(layers[layer_name][\"mean\"])\n",
    "        state_dict[layer_name + \".running_var\"] = torch.from_numpy(layers[layer_name][\"var\"])\n",
    "    elif \"ip\" in layer_name:\n",
    "        state_dict[layer_name + \".weight\"] = torch.from_numpy(layers[layer_name][\"weight\"])\n",
    "        state_dict[layer_name + \".weight\"] = torch.from_numpy(layers[layer_name])\n",
    "    else:\n",
    "        \n",
    "        state_dict[layer_name + \".weight\"]"
   ]
  },
  {
   "cell_type": "code",
   "execution_count": 4,
   "metadata": {},
   "outputs": [],
   "source": [
    "from DORN_pytorch import DORN_nyu"
   ]
  },
  {
   "cell_type": "code",
   "execution_count": 6,
   "metadata": {},
   "outputs": [],
   "source": [
    "net = DORN_nyu()"
   ]
  },
  {
   "cell_type": "code",
   "execution_count": 8,
   "metadata": {},
   "outputs": [
    {
     "ename": "RuntimeError",
     "evalue": "Error(s) in loading state_dict for DORN_nyu:\n\tMissing key(s) in state_dict: \"conv1_1_3x3_s2.weight\", \"conv1_1_3x3_s2_bn.running_var\", \"conv1_1_3x3_s2_bn.bias\", \"conv1_1_3x3_s2_bn.weight\", \"conv1_1_3x3_s2_bn.running_mean\", \"conv1_2_3x3.weight\", \"conv1_2_3x3_bn.running_var\", \"conv1_2_3x3_bn.bias\", \"conv1_2_3x3_bn.weight\", \"conv1_2_3x3_bn.running_mean\", \"conv1_3_3x3.weight\", \"conv1_3_3x3_bn.running_var\", \"conv1_3_3x3_bn.bias\", \"conv1_3_3x3_bn.weight\", \"conv1_3_3x3_bn.running_mean\", \"conv2_1_1x1_reduce.weight\", \"conv2_1_1x1_reduce_bn.running_var\", \"conv2_1_1x1_reduce_bn.bias\", \"conv2_1_1x1_reduce_bn.weight\", \"conv2_1_1x1_reduce_bn.running_mean\", \"conv2_1_3x3.weight\", \"conv2_1_3x3_bn.running_var\", \"conv2_1_3x3_bn.bias\", \"conv2_1_3x3_bn.weight\", \"conv2_1_3x3_bn.running_mean\", \"conv2_1_1x1_increase.weight\", \"conv2_1_1x1_increase_bn.running_var\", \"conv2_1_1x1_increase_bn.bias\", \"conv2_1_1x1_increase_bn.weight\", \"conv2_1_1x1_increase_bn.running_mean\", \"conv2_1_1x1_proj.weight\", \"conv2_1_1x1_proj_bn.running_var\", \"conv2_1_1x1_proj_bn.bias\", \"conv2_1_1x1_proj_bn.weight\", \"conv2_1_1x1_proj_bn.running_mean\", \"conv2_2_1x1_reduce.weight\", \"conv2_2_1x1_reduce_bn.running_var\", \"conv2_2_1x1_reduce_bn.bias\", \"conv2_2_1x1_reduce_bn.weight\", \"conv2_2_1x1_reduce_bn.running_mean\", \"conv2_2_3x3.weight\", \"conv2_2_3x3_bn.running_var\", \"conv2_2_3x3_bn.bias\", \"conv2_2_3x3_bn.weight\", \"conv2_2_3x3_bn.running_mean\", \"conv2_3_1x1_reduce.weight\", \"conv2_3_1x1_reduce_bn.running_var\", \"conv2_3_1x1_reduce_bn.bias\", \"conv2_3_1x1_reduce_bn.weight\", \"conv2_3_1x1_reduce_bn.running_mean\", \"conv2_3_3x3.weight\", \"conv2_3_3x3_bn.running_var\", \"conv2_3_3x3_bn.bias\", \"conv2_3_3x3_bn.weight\", \"conv2_3_3x3_bn.running_mean\", \"conv2_3_1x1_increase.weight\", \"conv2_3_1x1_increase_bn.running_var\", \"conv2_3_1x1_increase_bn.bias\", \"conv2_3_1x1_increase_bn.weight\", \"conv2_3_1x1_increase_bn.running_mean\", \"conv3_1_1x1_reduce.weight\", \"conv3_1_1x1_reduce_bn.running_var\", \"conv3_1_1x1_reduce_bn.bias\", \"conv3_1_1x1_reduce_bn.weight\", \"conv3_1_1x1_reduce_bn.running_mean\", \"conv3_1_3x3.weight\", \"conv3_1_3x3_bn.running_var\", \"conv3_1_3x3_bn.bias\", \"conv3_1_3x3_bn.weight\", \"conv3_1_3x3_bn.running_mean\", \"conv3_1_1x1_increase.weight\", \"conv3_1_1x1_increase_bn.running_var\", \"conv3_1_1x1_increase_bn.bias\", \"conv3_1_1x1_increase_bn.weight\", \"conv3_1_1x1_increase_bn.running_mean\", \"conv3_1_1x1_proj.weight\", \"conv3_1_1x1_proj_bn.running_var\", \"conv3_1_1x1_proj_bn.bias\", \"conv3_1_1x1_proj_bn.weight\", \"conv3_1_1x1_proj_bn.running_mean\", \"conv3_2_1x1_reduce.weight\", \"conv3_2_1x1_reduce_bn.running_var\", \"conv3_2_1x1_reduce_bn.bias\", \"conv3_2_1x1_reduce_bn.weight\", \"conv3_2_1x1_reduce_bn.running_mean\", \"conv3_2_3x3.weight\", \"conv3_2_3x3_bn.running_var\", \"conv3_2_3x3_bn.bias\", \"conv3_2_3x3_bn.weight\", \"conv3_2_3x3_bn.running_mean\", \"conv3_2_1x1_increase.weight\", \"conv3_2_1x1_increase_bn.running_var\", \"conv3_2_1x1_increase_bn.bias\", \"conv3_2_1x1_increase_bn.weight\", \"conv3_2_1x1_increase_bn.running_mean\", \"conv3_3_1x1_reduce.weight\", \"conv3_3_1x1_reduce_bn.running_var\", \"conv3_3_1x1_reduce_bn.bias\", \"conv3_3_1x1_reduce_bn.weight\", \"conv3_3_1x1_reduce_bn.running_mean\", \"conv3_3_3x3.weight\", \"conv3_3_3x3_bn.running_var\", \"conv3_3_3x3_bn.bias\", \"conv3_3_3x3_bn.weight\", \"conv3_3_3x3_bn.running_mean\", \"conv3_3_1x1_increase.weight\", \"conv3_3_1x1_increase_bn.running_var\", \"conv3_3_1x1_increase_bn.bias\", \"conv3_3_1x1_increase_bn.weight\", \"conv3_3_1x1_increase_bn.running_mean\", \"conv3_4_1x1_reduce.weight\", \"conv3_4_1x1_reduce_bn.running_var\", \"conv3_4_1x1_reduce_bn.bias\", \"conv3_4_1x1_reduce_bn.weight\", \"conv3_4_1x1_reduce_bn.running_mean\", \"conv3_4_3x3.weight\", \"conv3_4_3x3_bn.running_var\", \"conv3_4_3x3_bn.bias\", \"conv3_4_3x3_bn.weight\", \"conv3_4_3x3_bn.running_mean\", \"conv3_4_1x1_increase.weight\", \"conv3_4_1x1_increase_bn.running_var\", \"conv3_4_1x1_increase_bn.bias\", \"conv3_4_1x1_increase_bn.weight\", \"conv3_4_1x1_increase_bn.running_mean\", \"conv4_1_1x1_reduce.weight\", \"conv4_1_1x1_reduce_bn.running_var\", \"conv4_1_1x1_reduce_bn.bias\", \"conv4_1_1x1_reduce_bn.weight\", \"conv4_1_1x1_reduce_bn.running_mean\", \"conv4_1_3x3.weight\", \"conv4_1_3x3_bn.running_var\", \"conv4_1_3x3_bn.bias\", \"conv4_1_3x3_bn.weight\", \"conv4_1_3x3_bn.running_mean\", \"conv4_1_1x1_increase.weight\", \"conv4_1_1x1_increase_bn.running_var\", \"conv4_1_1x1_increase_bn.bias\", \"conv4_1_1x1_increase_bn.weight\", \"conv4_1_1x1_increase_bn.running_mean\", \"conv4_1_1x1_proj.weight\", \"conv4_1_1x1_proj_bn.running_var\", \"conv4_1_1x1_proj_bn.bias\", \"conv4_1_1x1_proj_bn.weight\", \"conv4_1_1x1_proj_bn.running_mean\", \"conv4_2_1x1_reduce.weight\", \"conv4_2_1x1_reduce_bn.running_var\", \"conv4_2_1x1_reduce_bn.bias\", \"conv4_2_1x1_reduce_bn.weight\", \"conv4_2_1x1_reduce_bn.running_mean\", \"conv4_2_3x3.weight\", \"conv4_2_3x3_bn.running_var\", \"conv4_2_3x3_bn.bias\", \"conv4_2_3x3_bn.weight\", \"conv4_2_3x3_bn.running_mean\", \"conv4_2_1x1_increase.weight\", \"conv4_2_1x1_increase_bn.running_var\", \"conv4_2_1x1_increase_bn.bias\", \"conv4_2_1x1_increase_bn.weight\", \"conv4_2_1x1_increase_bn.running_mean\", \"conv4_3_1x1_reduce.weight\", \"conv4_3_1x1_reduce_bn.running_var\", \"conv4_3_1x1_reduce_bn.bias\", \"conv4_3_1x1_reduce_bn.weight\", \"conv4_3_1x1_reduce_bn.running_mean\", \"conv4_3_3x3.weight\", \"conv4_3_3x3_bn.running_var\", \"conv4_3_3x3_bn.bias\", \"conv4_3_3x3_bn.weight\", \"conv4_3_3x3_bn.running_mean\", \"conv4_3_1x1_increase.weight\", \"conv4_3_1x1_increase_bn.running_var\", \"conv4_3_1x1_increase_bn.bias\", \"conv4_3_1x1_increase_bn.weight\", \"conv4_3_1x1_increase_bn.running_mean\", \"conv4_4_1x1_reduce.weight\", \"conv4_4_1x1_reduce_bn.running_var\", \"conv4_4_1x1_reduce_bn.bias\", \"conv4_4_1x1_reduce_bn.weight\", \"conv4_4_1x1_reduce_bn.running_mean\", \"conv4_4_3x3.weight\", \"conv4_4_3x3_bn.running_var\", \"conv4_4_3x3_bn.bias\", \"conv4_4_3x3_bn.weight\", \"conv4_4_3x3_bn.running_mean\", \"conv4_4_1x1_increase.weight\", \"conv4_4_1x1_increase_bn.running_var\", \"conv4_4_1x1_increase_bn.bias\", \"conv4_4_1x1_increase_bn.weight\", \"conv4_4_1x1_increase_bn.running_mean\", \"conv4_5_1x1_reduce.weight\", \"conv4_5_1x1_reduce_bn.running_var\", \"conv4_5_1x1_reduce_bn.bias\", \"conv4_5_1x1_reduce_bn.weight\", \"conv4_5_1x1_reduce_bn.running_mean\", \"conv4_5_3x3.weight\", \"conv4_5_3x3_bn.running_var\", \"conv4_5_3x3_bn.bias\", \"conv4_5_3x3_bn.weight\", \"conv4_5_3x3_bn.running_mean\", \"conv4_5_1x1_increase.weight\", \"conv4_5_1x1_increase_bn.running_var\", \"conv4_5_1x1_increase_bn.bias\", \"conv4_5_1x1_increase_bn.weight\", \"conv4_5_1x1_increase_bn.running_mean\", \"conv4_6_1x1_reduce.weight\", \"conv4_6_1x1_reduce_bn.running_var\", \"conv4_6_1x1_reduce_bn.bias\", \"conv4_6_1x1_reduce_bn.weight\", \"conv4_6_1x1_reduce_bn.running_mean\", \"conv4_6_3x3.weight\", \"conv4_6_3x3_bn.running_var\", \"conv4_6_3x3_bn.bias\", \"conv4_6_3x3_bn.weight\", \"conv4_6_3x3_bn.running_mean\", \"conv4_6_1x1_increase.weight\", \"conv4_6_1x1_increase_bn.running_var\", \"conv4_6_1x1_increase_bn.bias\", \"conv4_6_1x1_increase_bn.weight\", \"conv4_6_1x1_increase_bn.running_mean\", \"conv4_7_1x1_reduce.weight\", \"conv4_7_1x1_reduce_bn.running_var\", \"conv4_7_1x1_reduce_bn.bias\", \"conv4_7_1x1_reduce_bn.weight\", \"conv4_7_1x1_reduce_bn.running_mean\", \"conv4_7_3x3.weight\", \"conv4_7_3x3_bn.running_var\", \"conv4_7_3x3_bn.bias\", \"conv4_7_3x3_bn.weight\", \"conv4_7_3x3_bn.running_mean\", \"conv4_7_1x1_increase.weight\", \"conv4_7_1x1_increase_bn.running_var\", \"conv4_7_1x1_increase_bn.bias\", \"conv4_7_1x1_increase_bn.weight\", \"conv4_7_1x1_increase_bn.running_mean\", \"conv4_9_1x1_reduce.weight\", \"conv4_9_1x1_reduce_bn.running_var\", \"conv4_9_1x1_reduce_bn.bias\", \"conv4_9_1x1_reduce_bn.weight\", \"conv4_9_1x1_reduce_bn.running_mean\", \"conv4_9_3x3.weight\", \"conv4_9_3x3_bn.running_var\", \"conv4_9_3x3_bn.bias\", \"conv4_9_3x3_bn.weight\", \"conv4_9_3x3_bn.running_mean\", \"conv4_9_1x1_increase.weight\", \"conv4_9_1x1_increase_bn.running_var\", \"conv4_9_1x1_increase_bn.bias\", \"conv4_9_1x1_increase_bn.weight\", \"conv4_9_1x1_increase_bn.running_mean\", \"conv4_10_1x1_reduce.weight\", \"conv4_10_1x1_reduce_bn.running_var\", \"conv4_10_1x1_reduce_bn.bias\", \"conv4_10_1x1_reduce_bn.weight\", \"conv4_10_1x1_reduce_bn.running_mean\", \"conv4_10_3x3.weight\", \"conv4_10_3x3_bn.running_var\", \"conv4_10_3x3_bn.bias\", \"conv4_10_3x3_bn.weight\", \"conv4_10_3x3_bn.running_mean\", \"conv4_10_1x1_increase.weight\", \"conv4_10_1x1_increase_bn.running_var\", \"conv4_10_1x1_increase_bn.bias\", \"conv4_10_1x1_increase_bn.weight\", \"conv4_10_1x1_increase_bn.running_mean\", \"conv4_11_1x1_reduce.weight\", \"conv4_11_1x1_reduce_bn.running_var\", \"conv4_11_1x1_reduce_bn.bias\", \"conv4_11_1x1_reduce_bn.weight\", \"conv4_11_1x1_reduce_bn.running_mean\", \"conv4_11_3x3.weight\", \"conv4_11_3x3_bn.running_var\", \"conv4_11_3x3_bn.bias\", \"conv4_11_3x3_bn.weight\", \"conv4_11_3x3_bn.running_mean\", \"conv4_11_1x1_increase.weight\", \"conv4_11_1x1_increase_bn.running_var\", \"conv4_11_1x1_increase_bn.bias\", \"conv4_11_1x1_increase_bn.weight\", \"conv4_11_1x1_increase_bn.running_mean\", \"conv4_12_1x1_reduce.weight\", \"conv4_12_1x1_reduce_bn.running_var\", \"conv4_12_1x1_reduce_bn.bias\", \"conv4_12_1x1_reduce_bn.weight\", \"conv4_12_1x1_reduce_bn.running_mean\", \"conv4_12_3x3.weight\", \"conv4_12_3x3_bn.running_var\", \"conv4_12_3x3_bn.bias\", \"conv4_12_3x3_bn.weight\", \"conv4_12_3x3_bn.running_mean\", \"conv4_12_1x1_increase.weight\", \"conv4_12_1x1_increase_bn.running_var\", \"conv4_12_1x1_increase_bn.bias\", \"conv4_12_1x1_increase_bn.weight\", \"conv4_12_1x1_increase_bn.running_mean\", \"conv4_13_1x1_reduce.weight\", \"conv4_13_1x1_reduce_bn.running_var\", \"conv4_13_1x1_reduce_bn.bias\", \"conv4_13_1x1_reduce_bn.weight\", \"conv4_13_1x1_reduce_bn.running_mean\", \"conv4_13_3x3.weight\", \"conv4_13_3x3_bn.running_var\", \"conv4_13_3x3_bn.bias\", \"conv4_13_3x3_bn.weight\", \"conv4_13_3x3_bn.running_mean\", \"conv4_13_1x1_increase.weight\", \"conv4_13_1x1_increase_bn.running_var\", \"conv4_13_1x1_increase_bn.bias\", \"conv4_13_1x1_increase_bn.weight\", \"conv4_13_1x1_increase_bn.running_mean\", \"conv4_14_1x1_reduce.weight\", \"conv4_14_1x1_reduce_bn.running_var\", \"conv4_14_1x1_reduce_bn.bias\", \"conv4_14_1x1_reduce_bn.weight\", \"conv4_14_1x1_reduce_bn.running_mean\", \"conv4_14_3x3.weight\", \"conv4_14_3x3_bn.running_var\", \"conv4_14_3x3_bn.bias\", \"conv4_14_3x3_bn.weight\", \"conv4_14_3x3_bn.running_mean\", \"conv4_14_1x1_increase.weight\", \"conv4_14_1x1_increase_bn.running_var\", \"conv4_14_1x1_increase_bn.bias\", \"conv4_14_1x1_increase_bn.weight\", \"conv4_14_1x1_increase_bn.running_mean\", \"conv4_15_1x1_reduce.weight\", \"conv4_15_1x1_reduce_bn.running_var\", \"conv4_15_1x1_reduce_bn.bias\", \"conv4_15_1x1_reduce_bn.weight\", \"conv4_15_1x1_reduce_bn.running_mean\", \"conv4_15_3x3.weight\", \"conv4_15_3x3_bn.running_var\", \"conv4_15_3x3_bn.bias\", \"conv4_15_3x3_bn.weight\", \"conv4_15_3x3_bn.running_mean\", \"conv4_15_1x1_increase.weight\", \"conv4_15_1x1_increase_bn.running_var\", \"conv4_15_1x1_increase_bn.bias\", \"conv4_15_1x1_increase_bn.weight\", \"conv4_15_1x1_increase_bn.running_mean\", \"conv4_16_1x1_reduce.weight\", \"conv4_16_1x1_reduce_bn.running_var\", \"conv4_16_1x1_reduce_bn.bias\", \"conv4_16_1x1_reduce_bn.weight\", \"conv4_16_1x1_reduce_bn.running_mean\", \"conv4_16_3x3.weight\", \"conv4_16_3x3_bn.running_var\", \"conv4_16_3x3_bn.bias\", \"conv4_16_3x3_bn.weight\", \"conv4_16_3x3_bn.running_mean\", \"conv4_16_1x1_increase.weight\", \"conv4_16_1x1_increase_bn.running_var\", \"conv4_16_1x1_increase_bn.bias\", \"conv4_16_1x1_increase_bn.weight\", \"conv4_16_1x1_increase_bn.running_mean\", \"conv4_17_1x1_reduce.weight\", \"conv4_17_1x1_reduce_bn.running_var\", \"conv4_17_1x1_reduce_bn.bias\", \"conv4_17_1x1_reduce_bn.weight\", \"conv4_17_1x1_reduce_bn.running_mean\", \"conv4_17_3x3.weight\", \"conv4_17_3x3_bn.running_var\", \"conv4_17_3x3_bn.bias\", \"conv4_17_3x3_bn.weight\", \"conv4_17_3x3_bn.running_mean\", \"conv4_17_1x1_increase.weight\", \"conv4_17_1x1_increase_bn.running_var\", \"conv4_17_1x1_increase_bn.bias\", \"conv4_17_1x1_increase_bn.weight\", \"conv4_17_1x1_increase_bn.running_mean\", \"conv4_18_1x1_reduce.weight\", \"conv4_18_1x1_reduce_bn.running_var\", \"conv4_18_1x1_reduce_bn.bias\", \"conv4_18_1x1_reduce_bn.weight\", \"conv4_18_1x1_reduce_bn.running_mean\", \"conv4_18_3x3.weight\", \"conv4_18_3x3_bn.running_var\", \"conv4_18_3x3_bn.bias\", \"conv4_18_3x3_bn.weight\", \"conv4_18_3x3_bn.running_mean\", \"conv4_18_1x1_increase.weight\", \"conv4_18_1x1_increase_bn.running_var\", \"conv4_18_1x1_increase_bn.bias\", \"conv4_18_1x1_increase_bn.weight\", \"conv4_18_1x1_increase_bn.running_mean\", \"conv4_19_1x1_reduce.weight\", \"conv4_19_1x1_reduce_bn.running_var\", \"conv4_19_1x1_reduce_bn.bias\", \"conv4_19_1x1_reduce_bn.weight\", \"conv4_19_1x1_reduce_bn.running_mean\", \"conv4_19_3x3.weight\", \"conv4_19_3x3_bn.running_var\", \"conv4_19_3x3_bn.bias\", \"conv4_19_3x3_bn.weight\", \"conv4_19_3x3_bn.running_mean\", \"conv4_19_1x1_increase.weight\", \"conv4_19_1x1_increase_bn.running_var\", \"conv4_19_1x1_increase_bn.bias\", \"conv4_19_1x1_increase_bn.weight\", \"conv4_19_1x1_increase_bn.running_mean\", \"conv4_20_1x1_reduce.weight\", \"conv4_20_1x1_reduce_bn.running_var\", \"conv4_20_1x1_reduce_bn.bias\", \"conv4_20_1x1_reduce_bn.weight\", \"conv4_20_1x1_reduce_bn.running_mean\", \"conv4_20_3x3.weight\", \"conv4_20_3x3_bn.running_var\", \"conv4_20_3x3_bn.bias\", \"conv4_20_3x3_bn.weight\", \"conv4_20_3x3_bn.running_mean\", \"conv4_20_1x1_increase.weight\", \"conv4_20_1x1_increase_bn.running_var\", \"conv4_20_1x1_increase_bn.bias\", \"conv4_20_1x1_increase_bn.weight\", \"conv4_20_1x1_increase_bn.running_mean\", \"conv4_21_1x1_reduce.weight\", \"conv4_21_1x1_reduce_bn.running_var\", \"conv4_21_1x1_reduce_bn.bias\", \"conv4_21_1x1_reduce_bn.weight\", \"conv4_21_1x1_reduce_bn.running_mean\", \"conv4_21_3x3.weight\", \"conv4_21_3x3_bn.running_var\", \"conv4_21_3x3_bn.bias\", \"conv4_21_3x3_bn.weight\", \"conv4_21_3x3_bn.running_mean\", \"conv4_21_1x1_increase.weight\", \"conv4_21_1x1_increase_bn.running_var\", \"conv4_21_1x1_increase_bn.bias\", \"conv4_21_1x1_increase_bn.weight\", \"conv4_21_1x1_increase_bn.running_mean\", \"conv4_22_1x1_reduce.weight\", \"conv4_22_1x1_reduce_bn.running_var\", \"conv4_22_1x1_reduce_bn.bias\", \"conv4_22_1x1_reduce_bn.weight\", \"conv4_22_1x1_reduce_bn.running_mean\", \"conv4_22_3x3.weight\", \"conv4_22_3x3_bn.running_var\", \"conv4_22_3x3_bn.bias\", \"conv4_22_3x3_bn.weight\", \"conv4_22_3x3_bn.running_mean\", \"conv4_22_1x1_increase.weight\", \"conv4_22_1x1_increase_bn.running_var\", \"conv4_22_1x1_increase_bn.bias\", \"conv4_22_1x1_increase_bn.weight\", \"conv4_22_1x1_increase_bn.running_mean\", \"conv4_23_1x1_reduce.weight\", \"conv4_23_1x1_reduce_bn.running_var\", \"conv4_23_1x1_reduce_bn.bias\", \"conv4_23_1x1_reduce_bn.weight\", \"conv4_23_1x1_reduce_bn.running_mean\", \"conv4_23_3x3.weight\", \"conv4_23_3x3_bn.running_var\", \"conv4_23_3x3_bn.bias\", \"conv4_23_3x3_bn.weight\", \"conv4_23_3x3_bn.running_mean\", \"conv4_23_1x1_increase.weight\", \"conv4_23_1x1_increase_bn.running_var\", \"conv4_23_1x1_increase_bn.bias\", \"conv4_23_1x1_increase_bn.weight\", \"conv4_23_1x1_increase_bn.running_mean\", \"conv5_1_1x1_reduce.weight\", \"conv5_1_1x1_reduce_bn.running_var\", \"conv5_1_1x1_reduce_bn.bias\", \"conv5_1_1x1_reduce_bn.weight\", \"conv5_1_1x1_reduce_bn.running_mean\", \"conv5_1_3x3.weight\", \"conv5_1_3x3_bn.running_var\", \"conv5_1_3x3_bn.bias\", \"conv5_1_3x3_bn.weight\", \"conv5_1_3x3_bn.running_mean\", \"conv5_1_1x1_increase.weight\", \"conv5_1_1x1_increase_bn.running_var\", \"conv5_1_1x1_increase_bn.bias\", \"conv5_1_1x1_increase_bn.weight\", \"conv5_1_1x1_increase_bn.running_mean\", \"conv5_1_1x1_proj.weight\", \"conv5_1_1x1_proj_bn.running_var\", \"conv5_1_1x1_proj_bn.bias\", \"conv5_1_1x1_proj_bn.weight\", \"conv5_1_1x1_proj_bn.running_mean\", \"conv5_2_1x1_reduce.weight\", \"conv5_2_1x1_reduce_bn.running_var\", \"conv5_2_1x1_reduce_bn.bias\", \"conv5_2_1x1_reduce_bn.weight\", \"conv5_2_1x1_reduce_bn.running_mean\", \"conv5_3_1x1_reduce.weight\", \"conv5_3_1x1_reduce_bn.running_var\", \"conv5_3_1x1_reduce_bn.bias\", \"conv5_3_1x1_reduce_bn.weight\", \"conv5_3_1x1_reduce_bn.running_mean\", \"conv5_3_3x3.weight\", \"conv5_3_3x3_bn.running_var\", \"conv5_3_3x3_bn.bias\", \"conv5_3_3x3_bn.weight\", \"conv5_3_3x3_bn.running_mean\", \"conv5_3_1x1_increase.weight\", \"conv5_3_1x1_increase_bn.running_var\", \"conv5_3_1x1_increase_bn.bias\", \"conv5_3_1x1_increase_bn.weight\", \"conv5_3_1x1_increase_bn.running_mean\", \"ip1_depth.bias\", \"ip1_depth.weight\", \"conv6_1_soft.bias\", \"conv6_1_soft.weight\", \"aspp_1_soft.bias\", \"aspp_1_soft.weight\", \"conv6_2_soft.bias\", \"conv6_2_soft.weight\", \"aspp_2_soft.bias\", \"aspp_2_soft.weight\", \"conv4_6_3.bias\", \"conv4_6_3.weight\", \"conv7_soft.bias\", \"conv7_soft.weight\", \"conv8.bias\", \"conv8.weight\". \n\tUnexpected key(s) in state_dict: \"conv1_1_3x3_s2/bn\", \"conv1_2_3x3/bn\", \"conv1_3_3x3/bn\", \"conv2_1_1x1_reduce/bn\", \"conv2_1_3x3/bn\", \"conv2_1_1x1_increase/bn\", \"conv2_1_1x1_proj/bn\", \"conv2_2_1x1_reduce/bn\", \"conv2_2_3x3/bn\", \"conv2_2_1x1_increase\", \"conv2_2_1x1_increase/bn\", \"conv2_3_1x1_reduce/bn\", \"conv2_3_3x3/bn\", \"conv2_3_1x1_increase/bn\", \"conv3_1_1x1_reduce/bn\", \"conv3_1_3x3/bn\", \"conv3_1_1x1_increase/bn\", \"conv3_1_1x1_proj/bn\", \"conv3_2_1x1_reduce/bn\", \"conv3_2_3x3/bn\", \"conv3_2_1x1_increase/bn\", \"conv3_3_1x1_reduce/bn\", \"conv3_3_3x3/bn\", \"conv3_3_1x1_increase/bn\", \"conv3_4_1x1_reduce/bn\", \"conv3_4_3x3/bn\", \"conv3_4_1x1_increase/bn\", \"conv4_1_1x1_reduce/bn\", \"conv4_1_3x3/bn\", \"conv4_1_1x1_increase/bn\", \"conv4_1_1x1_proj/bn\", \"conv4_2_1x1_reduce/bn\", \"conv4_2_3x3/bn\", \"conv4_2_1x1_increase/bn\", \"conv4_3_1x1_reduce/bn\", \"conv4_3_3x3/bn\", \"conv4_3_1x1_increase/bn\", \"conv4_4_1x1_reduce/bn\", \"conv4_4_3x3/bn\", \"conv4_4_1x1_increase/bn\", \"conv4_5_1x1_reduce/bn\", \"conv4_5_3x3/bn\", \"conv4_5_1x1_increase/bn\", \"conv4_6_1x1_reduce/bn\", \"conv4_6_3x3/bn\", \"conv4_6_1x1_increase/bn\", \"conv4_7_1x1_reduce/bn\", \"conv4_7_3x3/bn\", \"conv4_7_1x1_increase/bn\", \"conv4_8_1x1_reduce\", \"conv4_8_1x1_reduce/bn\", \"conv4_8_3x3\", \"conv4_8_3x3/bn\", \"conv4_8_1x1_increase\", \"conv4_8_1x1_increase/bn\", \"conv4_9_1x1_reduce/bn\", \"conv4_9_3x3/bn\", \"conv4_9_1x1_increase/bn\", \"conv4_10_1x1_reduce/bn\", \"conv4_10_3x3/bn\", \"conv4_10_1x1_increase/bn\", \"conv4_11_1x1_reduce/bn\", \"conv4_11_3x3/bn\", \"conv4_11_1x1_increase/bn\", \"conv4_12_1x1_reduce/bn\", \"conv4_12_3x3/bn\", \"conv4_12_1x1_increase/bn\", \"conv4_13_1x1_reduce/bn\", \"conv4_13_3x3/bn\", \"conv4_13_1x1_increase/bn\", \"conv4_14_1x1_reduce/bn\", \"conv4_14_3x3/bn\", \"conv4_14_1x1_increase/bn\", \"conv4_15_1x1_reduce/bn\", \"conv4_15_3x3/bn\", \"conv4_15_1x1_increase/bn\", \"conv4_16_1x1_reduce/bn\", \"conv4_16_3x3/bn\", \"conv4_16_1x1_increase/bn\", \"conv4_17_1x1_reduce/bn\", \"conv4_17_3x3/bn\", \"conv4_17_1x1_increase/bn\", \"conv4_18_1x1_reduce/bn\", \"conv4_18_3x3/bn\", \"conv4_18_1x1_increase/bn\", \"conv4_19_1x1_reduce/bn\", \"conv4_19_3x3/bn\", \"conv4_19_1x1_increase/bn\", \"conv4_20_1x1_reduce/bn\", \"conv4_20_3x3/bn\", \"conv4_20_1x1_increase/bn\", \"conv4_21_1x1_reduce/bn\", \"conv4_21_3x3/bn\", \"conv4_21_1x1_increase/bn\", \"conv4_22_1x1_reduce/bn\", \"conv4_22_3x3/bn\", \"conv4_22_1x1_increase/bn\", \"conv4_23_1x1_reduce/bn\", \"conv4_23_3x3/bn\", \"conv4_23_1x1_increase/bn\", \"conv5_1_1x1_reduce/bn\", \"conv5_1_3x3/bn\", \"conv5_1_1x1_increase/bn\", \"conv5_1_1x1_proj/bn\", \"conv5_2_1x1_reduce/bn\", \"conv5_2_3x3\", \"conv5_2_3x3/bn\", \"conv5_2_1x1_increase\", \"conv5_2_1x1_increase/bn\", \"conv5_3_1x1_reduce/bn\", \"conv5_3_3x3/bn\", \"conv5_3_1x1_increase/bn\", \"ip1/depth\", \"conv6_1/soft\", \"aspp_1/soft\", \"conv6_2/soft\", \"aspp_2/soft\", \"conv6_3/soft\", \"aspp_3/soft\", \"conv6_4/soft\", \"aspp_4/soft\", \"conv6_5/soft\", \"conv7/soft\". ",
     "output_type": "error",
     "traceback": [
      "\u001b[0;31m---------------------------------------------------------------------------\u001b[0m",
      "\u001b[0;31mRuntimeError\u001b[0m                              Traceback (most recent call last)",
      "\u001b[0;32m<ipython-input-8-0fce79110bab>\u001b[0m in \u001b[0;36m<module>\u001b[0;34m()\u001b[0m\n\u001b[0;32m----> 1\u001b[0;31m \u001b[0mnet\u001b[0m\u001b[0;34m.\u001b[0m\u001b[0mload_state_dict\u001b[0m\u001b[0;34m(\u001b[0m\u001b[0mlayers\u001b[0m\u001b[0;34m)\u001b[0m\u001b[0;34m\u001b[0m\u001b[0m\n\u001b[0m",
      "\u001b[0;32m/home/markn1/anaconda3/envs/caffe/lib/python2.7/site-packages/torch/nn/modules/module.pyc\u001b[0m in \u001b[0;36mload_state_dict\u001b[0;34m(self, state_dict, strict)\u001b[0m\n\u001b[1;32m    767\u001b[0m         \u001b[0;32mif\u001b[0m \u001b[0mlen\u001b[0m\u001b[0;34m(\u001b[0m\u001b[0merror_msgs\u001b[0m\u001b[0;34m)\u001b[0m \u001b[0;34m>\u001b[0m \u001b[0;36m0\u001b[0m\u001b[0;34m:\u001b[0m\u001b[0;34m\u001b[0m\u001b[0m\n\u001b[1;32m    768\u001b[0m             raise RuntimeError('Error(s) in loading state_dict for {}:\\n\\t{}'.format(\n\u001b[0;32m--> 769\u001b[0;31m                                self.__class__.__name__, \"\\n\\t\".join(error_msgs)))\n\u001b[0m\u001b[1;32m    770\u001b[0m \u001b[0;34m\u001b[0m\u001b[0m\n\u001b[1;32m    771\u001b[0m     \u001b[0;32mdef\u001b[0m \u001b[0m_named_members\u001b[0m\u001b[0;34m(\u001b[0m\u001b[0mself\u001b[0m\u001b[0;34m,\u001b[0m \u001b[0mget_members_fn\u001b[0m\u001b[0;34m,\u001b[0m \u001b[0mprefix\u001b[0m\u001b[0;34m=\u001b[0m\u001b[0;34m''\u001b[0m\u001b[0;34m,\u001b[0m \u001b[0mrecurse\u001b[0m\u001b[0;34m=\u001b[0m\u001b[0mTrue\u001b[0m\u001b[0;34m)\u001b[0m\u001b[0;34m:\u001b[0m\u001b[0;34m\u001b[0m\u001b[0m\n",
      "\u001b[0;31mRuntimeError\u001b[0m: Error(s) in loading state_dict for DORN_nyu:\n\tMissing key(s) in state_dict: \"conv1_1_3x3_s2.weight\", \"conv1_1_3x3_s2_bn.running_var\", \"conv1_1_3x3_s2_bn.bias\", \"conv1_1_3x3_s2_bn.weight\", \"conv1_1_3x3_s2_bn.running_mean\", \"conv1_2_3x3.weight\", \"conv1_2_3x3_bn.running_var\", \"conv1_2_3x3_bn.bias\", \"conv1_2_3x3_bn.weight\", \"conv1_2_3x3_bn.running_mean\", \"conv1_3_3x3.weight\", \"conv1_3_3x3_bn.running_var\", \"conv1_3_3x3_bn.bias\", \"conv1_3_3x3_bn.weight\", \"conv1_3_3x3_bn.running_mean\", \"conv2_1_1x1_reduce.weight\", \"conv2_1_1x1_reduce_bn.running_var\", \"conv2_1_1x1_reduce_bn.bias\", \"conv2_1_1x1_reduce_bn.weight\", \"conv2_1_1x1_reduce_bn.running_mean\", \"conv2_1_3x3.weight\", \"conv2_1_3x3_bn.running_var\", \"conv2_1_3x3_bn.bias\", \"conv2_1_3x3_bn.weight\", \"conv2_1_3x3_bn.running_mean\", \"conv2_1_1x1_increase.weight\", \"conv2_1_1x1_increase_bn.running_var\", \"conv2_1_1x1_increase_bn.bias\", \"conv2_1_1x1_increase_bn.weight\", \"conv2_1_1x1_increase_bn.running_mean\", \"conv2_1_1x1_proj.weight\", \"conv2_1_1x1_proj_bn.running_var\", \"conv2_1_1x1_proj_bn.bias\", \"conv2_1_1x1_proj_bn.weight\", \"conv2_1_1x1_proj_bn.running_mean\", \"conv2_2_1x1_reduce.weight\", \"conv2_2_1x1_reduce_bn.running_var\", \"conv2_2_1x1_reduce_bn.bias\", \"conv2_2_1x1_reduce_bn.weight\", \"conv2_2_1x1_reduce_bn.running_mean\", \"conv2_2_3x3.weight\", \"conv2_2_3x3_bn.running_var\", \"conv2_2_3x3_bn.bias\", \"conv2_2_3x3_bn.weight\", \"conv2_2_3x3_bn.running_mean\", \"conv2_3_1x1_reduce.weight\", \"conv2_3_1x1_reduce_bn.running_var\", \"conv2_3_1x1_reduce_bn.bias\", \"conv2_3_1x1_reduce_bn.weight\", \"conv2_3_1x1_reduce_bn.running_mean\", \"conv2_3_3x3.weight\", \"conv2_3_3x3_bn.running_var\", \"conv2_3_3x3_bn.bias\", \"conv2_3_3x3_bn.weight\", \"conv2_3_3x3_bn.running_mean\", \"conv2_3_1x1_increase.weight\", \"conv2_3_1x1_increase_bn.running_var\", \"conv2_3_1x1_increase_bn.bias\", \"conv2_3_1x1_increase_bn.weight\", \"conv2_3_1x1_increase_bn.running_mean\", \"conv3_1_1x1_reduce.weight\", \"conv3_1_1x1_reduce_bn.running_var\", \"conv3_1_1x1_reduce_bn.bias\", \"conv3_1_1x1_reduce_bn.weight\", \"conv3_1_1x1_reduce_bn.running_mean\", \"conv3_1_3x3.weight\", \"conv3_1_3x3_bn.running_var\", \"conv3_1_3x3_bn.bias\", \"conv3_1_3x3_bn.weight\", \"conv3_1_3x3_bn.running_mean\", \"conv3_1_1x1_increase.weight\", \"conv3_1_1x1_increase_bn.running_var\", \"conv3_1_1x1_increase_bn.bias\", \"conv3_1_1x1_increase_bn.weight\", \"conv3_1_1x1_increase_bn.running_mean\", \"conv3_1_1x1_proj.weight\", \"conv3_1_1x1_proj_bn.running_var\", \"conv3_1_1x1_proj_bn.bias\", \"conv3_1_1x1_proj_bn.weight\", \"conv3_1_1x1_proj_bn.running_mean\", \"conv3_2_1x1_reduce.weight\", \"conv3_2_1x1_reduce_bn.running_var\", \"conv3_2_1x1_reduce_bn.bias\", \"conv3_2_1x1_reduce_bn.weight\", \"conv3_2_1x1_reduce_bn.running_mean\", \"conv3_2_3x3.weight\", \"conv3_2_3x3_bn.running_var\", \"conv3_2_3x3_bn.bias\", \"conv3_2_3x3_bn.weight\", \"conv3_2_3x3_bn.running_mean\", \"conv3_2_1x1_increase.weight\", \"conv3_2_1x1_increase_bn.running_var\", \"conv3_2_1x1_increase_bn.bias\", \"conv3_2_1x1_increase_bn.weight\", \"conv3_2_1x1_increase_bn.running_mean\", \"conv3_3_1x1_reduce.weight\", \"conv3_3_1x1_reduce_bn.running_var\", \"conv3_3_1x1_reduce_bn.bias\", \"conv3_3_1x1_reduce_bn.weight\", \"conv3_3_1x1_reduce_bn.running_mean\", \"conv3_3_3x3.weight\", \"conv3_3_3x3_bn.running_var\", \"conv3_3_3x3_bn.bias\", \"conv3_3_3x3_bn.weight\", \"conv3_3_3x3_bn.running_mean\", \"conv3_3_1x1_increase.weight\", \"conv3_3_1x1_increase_bn.running_var\", \"conv3_3_1x1_increase_bn.bias\", \"conv3_3_1x1_increase_bn.weight\", \"conv3_3_1x1_increase_bn.running_mean\", \"conv3_4_1x1_reduce.weight\", \"conv3_4_1x1_reduce_bn.running_var\", \"conv3_4_1x1_reduce_bn.bias\", \"conv3_4_1x1_reduce_bn.weight\", \"conv3_4_1x1_reduce_bn.running_mean\", \"conv3_4_3x3.weight\", \"conv3_4_3x3_bn.running_var\", \"conv3_4_3x3_bn.bias\", \"conv3_4_3x3_bn.weight\", \"conv3_4_3x3_bn.running_mean\", \"conv3_4_1x1_increase.weight\", \"conv3_4_1x1_increase_bn.running_var\", \"conv3_4_1x1_increase_bn.bias\", \"conv3_4_1x1_increase_bn.weight\", \"conv3_4_1x1_increase_bn.running_mean\", \"conv4_1_1x1_reduce.weight\", \"conv4_1_1x1_reduce_bn.running_var\", \"conv4_1_1x1_reduce_bn.bias\", \"conv4_1_1x1_reduce_bn.weight\", \"conv4_1_1x1_reduce_bn.running_mean\", \"conv4_1_3x3.weight\", \"conv4_1_3x3_bn.running_var\", \"conv4_1_3x3_bn.bias\", \"conv4_1_3x3_bn.weight\", \"conv4_1_3x3_bn.running_mean\", \"conv4_1_1x1_increase.weight\", \"conv4_1_1x1_increase_bn.running_var\", \"conv4_1_1x1_increase_bn.bias\", \"conv4_1_1x1_increase_bn.weight\", \"conv4_1_1x1_increase_bn.running_mean\", \"conv4_1_1x1_proj.weight\", \"conv4_1_1x1_proj_bn.running_var\", \"conv4_1_1x1_proj_bn.bias\", \"conv4_1_1x1_proj_bn.weight\", \"conv4_1_1x1_proj_bn.running_mean\", \"conv4_2_1x1_reduce.weight\", \"conv4_2_1x1_reduce_bn.running_var\", \"conv4_2_1x1_reduce_bn.bias\", \"conv4_2_1x1_reduce_bn.weight\", \"conv4_2_1x1_reduce_bn.running_mean\", \"conv4_2_3x3.weight\", \"conv4_2_3x3_bn.running_var\", \"conv4_2_3x3_bn.bias\", \"conv4_2_3x3_bn.weight\", \"conv4_2_3x3_bn.running_mean\", \"conv4_2_1x1_increase.weight\", \"conv4_2_1x1_increase_bn.running_var\", \"conv4_2_1x1_increase_bn.bias\", \"conv4_2_1x1_increase_bn.weight\", \"conv4_2_1x1_increase_bn.running_mean\", \"conv4_3_1x1_reduce.weight\", \"conv4_3_1x1_reduce_bn.running_var\", \"conv4_3_1x1_reduce_bn.bias\", \"conv4_3_1x1_reduce_bn.weight\", \"conv4_3_1x1_reduce_bn.running_mean\", \"conv4_3_3x3.weight\", \"conv4_3_3x3_bn.running_var\", \"conv4_3_3x3_bn.bias\", \"conv4_3_3x3_bn.weight\", \"conv4_3_3x3_bn.running_mean\", \"conv4_3_1x1_increase.weight\", \"conv4_3_1x1_increase_bn.running_var\", \"conv4_3_1x1_increase_bn.bias\", \"conv4_3_1x1_increase_bn.weight\", \"conv4_3_1x1_increase_bn.running_mean\", \"conv4_4_1x1_reduce.weight\", \"conv4_4_1x1_reduce_bn.running_var\", \"conv4_4_1x1_reduce_bn.bias\", \"conv4_4_1x1_reduce_bn.weight\", \"conv4_4_1x1_reduce_bn.running_mean\", \"conv4_4_3x3.weight\", \"conv4_4_3x3_bn.running_var\", \"conv4_4_3x3_bn.bias\", \"conv4_4_3x3_bn.weight\", \"conv4_4_3x3_bn.running_mean\", \"conv4_4_1x1_increase.weight\", \"conv4_4_1x1_increase_bn.running_var\", \"conv4_4_1x1_increase_bn.bias\", \"conv4_4_1x1_increase_bn.weight\", \"conv4_4_1x1_increase_bn.running_mean\", \"conv4_5_1x1_reduce.weight\", \"conv4_5_1x1_reduce_bn.running_var\", \"conv4_5_1x1_reduce_bn.bias\", \"conv4_5_1x1_reduce_bn.weight\", \"conv4_5_1x1_reduce_bn.running_mean\", \"conv4_5_3x3.weight\", \"conv4_5_3x3_bn.running_var\", \"conv4_5_3x3_bn.bias\", \"conv4_5_3x3_bn.weight\", \"conv4_5_3x3_bn.running_mean\", \"conv4_5_1x1_increase.weight\", \"conv4_5_1x1_increase_bn.running_var\", \"conv4_5_1x1_increase_bn.bias\", \"conv4_5_1x1_increase_bn.weight\", \"conv4_5_1x1_increase_bn.running_mean\", \"conv4_6_1x1_reduce.weight\", \"conv4_6_1x1_reduce_bn.running_var\", \"conv4_6_1x1_reduce_bn.bias\", \"conv4_6_1x1_reduce_bn.weight\", \"conv4_6_1x1_reduce_bn.running_mean\", \"conv4_6_3x3.weight\", \"conv4_6_3x3_bn.running_var\", \"conv4_6_3x3_bn.bias\", \"conv4_6_3x3_bn.weight\", \"conv4_6_3x3_bn.running_mean\", \"conv4_6_1x1_increase.weight\", \"conv4_6_1x1_increase_bn.running_var\", \"conv4_6_1x1_increase_bn.bias\", \"conv4_6_1x1_increase_bn.weight\", \"conv4_6_1x1_increase_bn.running_mean\", \"conv4_7_1x1_reduce.weight\", \"conv4_7_1x1_reduce_bn.running_var\", \"conv4_7_1x1_reduce_bn.bias\", \"conv4_7_1x1_reduce_bn.weight\", \"conv4_7_1x1_reduce_bn.running_mean\", \"conv4_7_3x3.weight\", \"conv4_7_3x3_bn.running_var\", \"conv4_7_3x3_bn.bias\", \"conv4_7_3x3_bn.weight\", \"conv4_7_3x3_bn.running_mean\", \"conv4_7_1x1_increase.weight\", \"conv4_7_1x1_increase_bn.running_var\", \"conv4_7_1x1_increase_bn.bias\", \"conv4_7_1x1_increase_bn.weight\", \"conv4_7_1x1_increase_bn.running_mean\", \"conv4_9_1x1_reduce.weight\", \"conv4_9_1x1_reduce_bn.running_var\", \"conv4_9_1x1_reduce_bn.bias\", \"conv4_9_1x1_reduce_bn.weight\", \"conv4_9_1x1_reduce_bn.running_mean\", \"conv4_9_3x3.weight\", \"conv4_9_3x3_bn.running_var\", \"conv4_9_3x3_bn.bias\", \"conv4_9_3x3_bn.weight\", \"conv4_9_3x3_bn.running_mean\", \"conv4_9_1x1_increase.weight\", \"conv4_9_1x1_increase_bn.running_var\", \"conv4_9_1x1_increase_bn.bias\", \"conv4_9_1x1_increase_bn.weight\", \"conv4_9_1x1_increase_bn.running_mean\", \"conv4_10_1x1_reduce.weight\", \"conv4_10_1x1_reduce_bn.running_var\", \"conv4_10_1x1_reduce_bn.bias\", \"conv4_10_1x1_reduce_bn.weight\", \"conv4_10_1x1_reduce_bn.running_mean\", \"conv4_10_3x3.weight\", \"conv4_10_3x3_bn.running_var\", \"conv4_10_3x3_bn.bias\", \"conv4_10_3x3_bn.weight\", \"conv4_10_3x3_bn.running_mean\", \"conv4_10_1x1_increase.weight\", \"conv4_10_1x1_increase_bn.running_var\", \"conv4_10_1x1_increase_bn.bias\", \"conv4_10_1x1_increase_bn.weight\", \"conv4_10_1x1_increase_bn.running_mean\", \"conv4_11_1x1_reduce.weight\", \"conv4_11_1x1_reduce_bn.running_var\", \"conv4_11_1x1_reduce_bn.bias\", \"conv4_11_1x1_reduce_bn.weight\", \"conv4_11_1x1_reduce_bn.running_mean\", \"conv4_11_3x3.weight\", \"conv4_11_3x3_bn.running_var\", \"conv4_11_3x3_bn.bias\", \"conv4_11_3x3_bn.weight\", \"conv4_11_3x3_bn.running_mean\", \"conv4_11_1x1_increase.weight\", \"conv4_11_1x1_increase_bn.running_var\", \"conv4_11_1x1_increase_bn.bias\", \"conv4_11_1x1_increase_bn.weight\", \"conv4_11_1x1_increase_bn.running_mean\", \"conv4_12_1x1_reduce.weight\", \"conv4_12_1x1_reduce_bn.running_var\", \"conv4_12_1x1_reduce_bn.bias\", \"conv4_12_1x1_reduce_bn.weight\", \"conv4_12_1x1_reduce_bn.running_mean\", \"conv4_12_3x3.weight\", \"conv4_12_3x3_bn.running_var\", \"conv4_12_3x3_bn.bias\", \"conv4_12_3x3_bn.weight\", \"conv4_12_3x3_bn.running_mean\", \"conv4_12_1x1_increase.weight\", \"conv4_12_1x1_increase_bn.running_var\", \"conv4_12_1x1_increase_bn.bias\", \"conv4_12_1x1_increase_bn.weight\", \"conv4_12_1x1_increase_bn.running_mean\", \"conv4_13_1x1_reduce.weight\", \"conv4_13_1x1_reduce_bn.running_var\", \"conv4_13_1x1_reduce_bn.bias\", \"conv4_13_1x1_reduce_bn.weight\", \"conv4_13_1x1_reduce_bn.running_mean\", \"conv4_13_3x3.weight\", \"conv4_13_3x3_bn.running_var\", \"conv4_13_3x3_bn.bias\", \"conv4_13_3x3_bn.weight\", \"conv4_13_3x3_bn.running_mean\", \"conv4_13_1x1_increase.weight\", \"conv4_13_1x1_increase_bn.running_var\", \"conv4_13_1x1_increase_bn.bias\", \"conv4_13_1x1_increase_bn.weight\", \"conv4_13_1x1_increase_bn.running_mean\", \"conv4_14_1x1_reduce.weight\", \"conv4_14_1x1_reduce_bn.running_var\", \"conv4_14_1x1_reduce_bn.bias\", \"conv4_14_1x1_reduce_bn.weight\", \"conv4_14_1x1_reduce_bn.running_mean\", \"conv4_14_3x3.weight\", \"conv4_14_3x3_bn.running_var\", \"conv4_14_3x3_bn.bias\", \"conv4_14_3x3_bn.weight\", \"conv4_14_3x3_bn.running_mean\", \"conv4_14_1x1_increase.weight\", \"conv4_14_1x1_increase_bn.running_var\", \"conv4_14_1x1_increase_bn.bias\", \"conv4_14_1x1_increase_bn.weight\", \"conv4_14_1x1_increase_bn.running_mean\", \"conv4_15_1x1_reduce.weight\", \"conv4_15_1x1_reduce_bn.running_var\", \"conv4_15_1x1_reduce_bn.bias\", \"conv4_15_1x1_reduce_bn.weight\", \"conv4_15_1x1_reduce_bn.running_mean\", \"conv4_15_3x3.weight\", \"conv4_15_3x3_bn.running_var\", \"conv4_15_3x3_bn.bias\", \"conv4_15_3x3_bn.weight\", \"conv4_15_3x3_bn.running_mean\", \"conv4_15_1x1_increase.weight\", \"conv4_15_1x1_increase_bn.running_var\", \"conv4_15_1x1_increase_bn.bias\", \"conv4_15_1x1_increase_bn.weight\", \"conv4_15_1x1_increase_bn.running_mean\", \"conv4_16_1x1_reduce.weight\", \"conv4_16_1x1_reduce_bn.running_var\", \"conv4_16_1x1_reduce_bn.bias\", \"conv4_16_1x1_reduce_bn.weight\", \"conv4_16_1x1_reduce_bn.running_mean\", \"conv4_16_3x3.weight\", \"conv4_16_3x3_bn.running_var\", \"conv4_16_3x3_bn.bias\", \"conv4_16_3x3_bn.weight\", \"conv4_16_3x3_bn.running_mean\", \"conv4_16_1x1_increase.weight\", \"conv4_16_1x1_increase_bn.running_var\", \"conv4_16_1x1_increase_bn.bias\", \"conv4_16_1x1_increase_bn.weight\", \"conv4_16_1x1_increase_bn.running_mean\", \"conv4_17_1x1_reduce.weight\", \"conv4_17_1x1_reduce_bn.running_var\", \"conv4_17_1x1_reduce_bn.bias\", \"conv4_17_1x1_reduce_bn.weight\", \"conv4_17_1x1_reduce_bn.running_mean\", \"conv4_17_3x3.weight\", \"conv4_17_3x3_bn.running_var\", \"conv4_17_3x3_bn.bias\", \"conv4_17_3x3_bn.weight\", \"conv4_17_3x3_bn.running_mean\", \"conv4_17_1x1_increase.weight\", \"conv4_17_1x1_increase_bn.running_var\", \"conv4_17_1x1_increase_bn.bias\", \"conv4_17_1x1_increase_bn.weight\", \"conv4_17_1x1_increase_bn.running_mean\", \"conv4_18_1x1_reduce.weight\", \"conv4_18_1x1_reduce_bn.running_var\", \"conv4_18_1x1_reduce_bn.bias\", \"conv4_18_1x1_reduce_bn.weight\", \"conv4_18_1x1_reduce_bn.running_mean\", \"conv4_18_3x3.weight\", \"conv4_18_3x3_bn.running_var\", \"conv4_18_3x3_bn.bias\", \"conv4_18_3x3_bn.weight\", \"conv4_18_3x3_bn.running_mean\", \"conv4_18_1x1_increase.weight\", \"conv4_18_1x1_increase_bn.running_var\", \"conv4_18_1x1_increase_bn.bias\", \"conv4_18_1x1_increase_bn.weight\", \"conv4_18_1x1_increase_bn.running_mean\", \"conv4_19_1x1_reduce.weight\", \"conv4_19_1x1_reduce_bn.running_var\", \"conv4_19_1x1_reduce_bn.bias\", \"conv4_19_1x1_reduce_bn.weight\", \"conv4_19_1x1_reduce_bn.running_mean\", \"conv4_19_3x3.weight\", \"conv4_19_3x3_bn.running_var\", \"conv4_19_3x3_bn.bias\", \"conv4_19_3x3_bn.weight\", \"conv4_19_3x3_bn.running_mean\", \"conv4_19_1x1_increase.weight\", \"conv4_19_1x1_increase_bn.running_var\", \"conv4_19_1x1_increase_bn.bias\", \"conv4_19_1x1_increase_bn.weight\", \"conv4_19_1x1_increase_bn.running_mean\", \"conv4_20_1x1_reduce.weight\", \"conv4_20_1x1_reduce_bn.running_var\", \"conv4_20_1x1_reduce_bn.bias\", \"conv4_20_1x1_reduce_bn.weight\", \"conv4_20_1x1_reduce_bn.running_mean\", \"conv4_20_3x3.weight\", \"conv4_20_3x3_bn.running_var\", \"conv4_20_3x3_bn.bias\", \"conv4_20_3x3_bn.weight\", \"conv4_20_3x3_bn.running_mean\", \"conv4_20_1x1_increase.weight\", \"conv4_20_1x1_increase_bn.running_var\", \"conv4_20_1x1_increase_bn.bias\", \"conv4_20_1x1_increase_bn.weight\", \"conv4_20_1x1_increase_bn.running_mean\", \"conv4_21_1x1_reduce.weight\", \"conv4_21_1x1_reduce_bn.running_var\", \"conv4_21_1x1_reduce_bn.bias\", \"conv4_21_1x1_reduce_bn.weight\", \"conv4_21_1x1_reduce_bn.running_mean\", \"conv4_21_3x3.weight\", \"conv4_21_3x3_bn.running_var\", \"conv4_21_3x3_bn.bias\", \"conv4_21_3x3_bn.weight\", \"conv4_21_3x3_bn.running_mean\", \"conv4_21_1x1_increase.weight\", \"conv4_21_1x1_increase_bn.running_var\", \"conv4_21_1x1_increase_bn.bias\", \"conv4_21_1x1_increase_bn.weight\", \"conv4_21_1x1_increase_bn.running_mean\", \"conv4_22_1x1_reduce.weight\", \"conv4_22_1x1_reduce_bn.running_var\", \"conv4_22_1x1_reduce_bn.bias\", \"conv4_22_1x1_reduce_bn.weight\", \"conv4_22_1x1_reduce_bn.running_mean\", \"conv4_22_3x3.weight\", \"conv4_22_3x3_bn.running_var\", \"conv4_22_3x3_bn.bias\", \"conv4_22_3x3_bn.weight\", \"conv4_22_3x3_bn.running_mean\", \"conv4_22_1x1_increase.weight\", \"conv4_22_1x1_increase_bn.running_var\", \"conv4_22_1x1_increase_bn.bias\", \"conv4_22_1x1_increase_bn.weight\", \"conv4_22_1x1_increase_bn.running_mean\", \"conv4_23_1x1_reduce.weight\", \"conv4_23_1x1_reduce_bn.running_var\", \"conv4_23_1x1_reduce_bn.bias\", \"conv4_23_1x1_reduce_bn.weight\", \"conv4_23_1x1_reduce_bn.running_mean\", \"conv4_23_3x3.weight\", \"conv4_23_3x3_bn.running_var\", \"conv4_23_3x3_bn.bias\", \"conv4_23_3x3_bn.weight\", \"conv4_23_3x3_bn.running_mean\", \"conv4_23_1x1_increase.weight\", \"conv4_23_1x1_increase_bn.running_var\", \"conv4_23_1x1_increase_bn.bias\", \"conv4_23_1x1_increase_bn.weight\", \"conv4_23_1x1_increase_bn.running_mean\", \"conv5_1_1x1_reduce.weight\", \"conv5_1_1x1_reduce_bn.running_var\", \"conv5_1_1x1_reduce_bn.bias\", \"conv5_1_1x1_reduce_bn.weight\", \"conv5_1_1x1_reduce_bn.running_mean\", \"conv5_1_3x3.weight\", \"conv5_1_3x3_bn.running_var\", \"conv5_1_3x3_bn.bias\", \"conv5_1_3x3_bn.weight\", \"conv5_1_3x3_bn.running_mean\", \"conv5_1_1x1_increase.weight\", \"conv5_1_1x1_increase_bn.running_var\", \"conv5_1_1x1_increase_bn.bias\", \"conv5_1_1x1_increase_bn.weight\", \"conv5_1_1x1_increase_bn.running_mean\", \"conv5_1_1x1_proj.weight\", \"conv5_1_1x1_proj_bn.running_var\", \"conv5_1_1x1_proj_bn.bias\", \"conv5_1_1x1_proj_bn.weight\", \"conv5_1_1x1_proj_bn.running_mean\", \"conv5_2_1x1_reduce.weight\", \"conv5_2_1x1_reduce_bn.running_var\", \"conv5_2_1x1_reduce_bn.bias\", \"conv5_2_1x1_reduce_bn.weight\", \"conv5_2_1x1_reduce_bn.running_mean\", \"conv5_3_1x1_reduce.weight\", \"conv5_3_1x1_reduce_bn.running_var\", \"conv5_3_1x1_reduce_bn.bias\", \"conv5_3_1x1_reduce_bn.weight\", \"conv5_3_1x1_reduce_bn.running_mean\", \"conv5_3_3x3.weight\", \"conv5_3_3x3_bn.running_var\", \"conv5_3_3x3_bn.bias\", \"conv5_3_3x3_bn.weight\", \"conv5_3_3x3_bn.running_mean\", \"conv5_3_1x1_increase.weight\", \"conv5_3_1x1_increase_bn.running_var\", \"conv5_3_1x1_increase_bn.bias\", \"conv5_3_1x1_increase_bn.weight\", \"conv5_3_1x1_increase_bn.running_mean\", \"ip1_depth.bias\", \"ip1_depth.weight\", \"conv6_1_soft.bias\", \"conv6_1_soft.weight\", \"aspp_1_soft.bias\", \"aspp_1_soft.weight\", \"conv6_2_soft.bias\", \"conv6_2_soft.weight\", \"aspp_2_soft.bias\", \"aspp_2_soft.weight\", \"conv4_6_3.bias\", \"conv4_6_3.weight\", \"conv7_soft.bias\", \"conv7_soft.weight\", \"conv8.bias\", \"conv8.weight\". \n\tUnexpected key(s) in state_dict: \"conv1_1_3x3_s2/bn\", \"conv1_2_3x3/bn\", \"conv1_3_3x3/bn\", \"conv2_1_1x1_reduce/bn\", \"conv2_1_3x3/bn\", \"conv2_1_1x1_increase/bn\", \"conv2_1_1x1_proj/bn\", \"conv2_2_1x1_reduce/bn\", \"conv2_2_3x3/bn\", \"conv2_2_1x1_increase\", \"conv2_2_1x1_increase/bn\", \"conv2_3_1x1_reduce/bn\", \"conv2_3_3x3/bn\", \"conv2_3_1x1_increase/bn\", \"conv3_1_1x1_reduce/bn\", \"conv3_1_3x3/bn\", \"conv3_1_1x1_increase/bn\", \"conv3_1_1x1_proj/bn\", \"conv3_2_1x1_reduce/bn\", \"conv3_2_3x3/bn\", \"conv3_2_1x1_increase/bn\", \"conv3_3_1x1_reduce/bn\", \"conv3_3_3x3/bn\", \"conv3_3_1x1_increase/bn\", \"conv3_4_1x1_reduce/bn\", \"conv3_4_3x3/bn\", \"conv3_4_1x1_increase/bn\", \"conv4_1_1x1_reduce/bn\", \"conv4_1_3x3/bn\", \"conv4_1_1x1_increase/bn\", \"conv4_1_1x1_proj/bn\", \"conv4_2_1x1_reduce/bn\", \"conv4_2_3x3/bn\", \"conv4_2_1x1_increase/bn\", \"conv4_3_1x1_reduce/bn\", \"conv4_3_3x3/bn\", \"conv4_3_1x1_increase/bn\", \"conv4_4_1x1_reduce/bn\", \"conv4_4_3x3/bn\", \"conv4_4_1x1_increase/bn\", \"conv4_5_1x1_reduce/bn\", \"conv4_5_3x3/bn\", \"conv4_5_1x1_increase/bn\", \"conv4_6_1x1_reduce/bn\", \"conv4_6_3x3/bn\", \"conv4_6_1x1_increase/bn\", \"conv4_7_1x1_reduce/bn\", \"conv4_7_3x3/bn\", \"conv4_7_1x1_increase/bn\", \"conv4_8_1x1_reduce\", \"conv4_8_1x1_reduce/bn\", \"conv4_8_3x3\", \"conv4_8_3x3/bn\", \"conv4_8_1x1_increase\", \"conv4_8_1x1_increase/bn\", \"conv4_9_1x1_reduce/bn\", \"conv4_9_3x3/bn\", \"conv4_9_1x1_increase/bn\", \"conv4_10_1x1_reduce/bn\", \"conv4_10_3x3/bn\", \"conv4_10_1x1_increase/bn\", \"conv4_11_1x1_reduce/bn\", \"conv4_11_3x3/bn\", \"conv4_11_1x1_increase/bn\", \"conv4_12_1x1_reduce/bn\", \"conv4_12_3x3/bn\", \"conv4_12_1x1_increase/bn\", \"conv4_13_1x1_reduce/bn\", \"conv4_13_3x3/bn\", \"conv4_13_1x1_increase/bn\", \"conv4_14_1x1_reduce/bn\", \"conv4_14_3x3/bn\", \"conv4_14_1x1_increase/bn\", \"conv4_15_1x1_reduce/bn\", \"conv4_15_3x3/bn\", \"conv4_15_1x1_increase/bn\", \"conv4_16_1x1_reduce/bn\", \"conv4_16_3x3/bn\", \"conv4_16_1x1_increase/bn\", \"conv4_17_1x1_reduce/bn\", \"conv4_17_3x3/bn\", \"conv4_17_1x1_increase/bn\", \"conv4_18_1x1_reduce/bn\", \"conv4_18_3x3/bn\", \"conv4_18_1x1_increase/bn\", \"conv4_19_1x1_reduce/bn\", \"conv4_19_3x3/bn\", \"conv4_19_1x1_increase/bn\", \"conv4_20_1x1_reduce/bn\", \"conv4_20_3x3/bn\", \"conv4_20_1x1_increase/bn\", \"conv4_21_1x1_reduce/bn\", \"conv4_21_3x3/bn\", \"conv4_21_1x1_increase/bn\", \"conv4_22_1x1_reduce/bn\", \"conv4_22_3x3/bn\", \"conv4_22_1x1_increase/bn\", \"conv4_23_1x1_reduce/bn\", \"conv4_23_3x3/bn\", \"conv4_23_1x1_increase/bn\", \"conv5_1_1x1_reduce/bn\", \"conv5_1_3x3/bn\", \"conv5_1_1x1_increase/bn\", \"conv5_1_1x1_proj/bn\", \"conv5_2_1x1_reduce/bn\", \"conv5_2_3x3\", \"conv5_2_3x3/bn\", \"conv5_2_1x1_increase\", \"conv5_2_1x1_increase/bn\", \"conv5_3_1x1_reduce/bn\", \"conv5_3_3x3/bn\", \"conv5_3_1x1_increase/bn\", \"ip1/depth\", \"conv6_1/soft\", \"aspp_1/soft\", \"conv6_2/soft\", \"aspp_2/soft\", \"conv6_3/soft\", \"aspp_3/soft\", \"conv6_4/soft\", \"aspp_4/soft\", \"conv6_5/soft\", \"conv7/soft\". "
     ]
    }
   ],
   "source": [
    "net.load_state_dict(layers)"
   ]
  },
  {
   "cell_type": "code",
   "execution_count": null,
   "metadata": {},
   "outputs": [],
   "source": []
  }
 ],
 "metadata": {
  "kernelspec": {
   "display_name": "Python 2",
   "language": "python",
   "name": "python2"
  },
  "language_info": {
   "codemirror_mode": {
    "name": "ipython",
    "version": 2
   },
   "file_extension": ".py",
   "mimetype": "text/x-python",
   "name": "python",
   "nbconvert_exporter": "python",
   "pygments_lexer": "ipython2",
   "version": "2.7.15"
  }
 },
 "nbformat": 4,
 "nbformat_minor": 2
}
