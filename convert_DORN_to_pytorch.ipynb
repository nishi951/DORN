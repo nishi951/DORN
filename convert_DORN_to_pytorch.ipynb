{
 "cells": [
  {
   "cell_type": "markdown",
   "metadata": {},
   "source": [
    "### Read caffe weights and save them in numpy"
   ]
  },
  {
   "cell_type": "code",
   "execution_count": 1,
   "metadata": {},
   "outputs": [],
   "source": [
    "# code to convert MSGNET from caffe to npy\n",
    "import caffe\n",
    "import argparse\n",
    "import numpy as np\n",
    "from collections import OrderedDict"
   ]
  },
  {
   "cell_type": "code",
   "execution_count": 2,
   "metadata": {},
   "outputs": [],
   "source": [
    "# parser = argparse.ArgumentParser(formatter_class=argparse.ArgumentDefaultsHelpFormatter)\n",
    "# parser.add_argument('--proto-path', type=str, default=\"./models/NYUV2/deploy.prototxt\")\n",
    "# parser.add_argument('--caffemodel-path', type=str, default=\"./models/NYUV2/cvpr_nyuv2.caffemodel\")\n",
    "# parser.add_argument('--output-path', type=str, default=\"./caffe_params.npy\")\n",
    "proto_path = \"./models/NYUV2/deploy.prototxt\"\n",
    "caffemodel_path = \"./models/NYUV2/cvpr_nyuv2.caffemodel\"\n",
    "npy_path = \"./caffe_params_nyuv2.npy\""
   ]
  },
  {
   "cell_type": "code",
   "execution_count": 3,
   "metadata": {},
   "outputs": [
    {
     "name": "stdout",
     "output_type": "stream",
     "text": [
      "conv1_1_3x3_s2 left: 0\n",
      "conv1_1_3x3_s2/bn left: 0\n",
      "conv1_2_3x3 left: 0\n",
      "conv1_2_3x3/bn left: 0\n",
      "conv1_3_3x3 left: 0\n",
      "conv1_3_3x3/bn left: 0\n",
      "conv2_1_1x1_reduce left: 0\n",
      "conv2_1_1x1_reduce/bn left: 0\n",
      "conv2_1_3x3 left: 0\n",
      "conv2_1_3x3/bn left: 0\n",
      "conv2_1_1x1_increase left: 0\n",
      "conv2_1_1x1_increase/bn left: 0\n",
      "conv2_1_1x1_proj left: 0\n",
      "conv2_1_1x1_proj/bn left: 0\n",
      "conv2_2_1x1_reduce left: 0\n",
      "conv2_2_1x1_reduce/bn left: 0\n",
      "conv2_2_3x3 left: 0\n",
      "conv2_2_3x3/bn left: 0\n",
      "conv2_2_1x1_increase left: 0\n",
      "conv2_2_1x1_increase/bn left: 0\n",
      "conv2_3_1x1_reduce left: 0\n",
      "conv2_3_1x1_reduce/bn left: 0\n",
      "conv2_3_3x3 left: 0\n",
      "conv2_3_3x3/bn left: 0\n",
      "conv2_3_1x1_increase left: 0\n",
      "conv2_3_1x1_increase/bn left: 0\n",
      "conv3_1_1x1_reduce left: 0\n",
      "conv3_1_1x1_reduce/bn left: 0\n",
      "conv3_1_3x3 left: 0\n",
      "conv3_1_3x3/bn left: 0\n",
      "conv3_1_1x1_increase left: 0\n",
      "conv3_1_1x1_increase/bn left: 0\n",
      "conv3_1_1x1_proj left: 0\n",
      "conv3_1_1x1_proj/bn left: 0\n",
      "conv3_2_1x1_reduce left: 0\n",
      "conv3_2_1x1_reduce/bn left: 0\n",
      "conv3_2_3x3 left: 0\n",
      "conv3_2_3x3/bn left: 0\n",
      "conv3_2_1x1_increase left: 0\n",
      "conv3_2_1x1_increase/bn left: 0\n",
      "conv3_3_1x1_reduce left: 0\n",
      "conv3_3_1x1_reduce/bn left: 0\n",
      "conv3_3_3x3 left: 0\n",
      "conv3_3_3x3/bn left: 0\n",
      "conv3_3_1x1_increase left: 0\n",
      "conv3_3_1x1_increase/bn left: 0\n",
      "conv3_4_1x1_reduce left: 0\n",
      "conv3_4_1x1_reduce/bn left: 0\n",
      "conv3_4_3x3 left: 0\n",
      "conv3_4_3x3/bn left: 0\n",
      "conv3_4_1x1_increase left: 0\n",
      "conv3_4_1x1_increase/bn left: 0\n",
      "conv4_1_1x1_reduce left: 0\n",
      "conv4_1_1x1_reduce/bn left: 0\n",
      "conv4_1_3x3 left: 0\n",
      "conv4_1_3x3/bn left: 0\n",
      "conv4_1_1x1_increase left: 0\n",
      "conv4_1_1x1_increase/bn left: 0\n",
      "conv4_1_1x1_proj left: 0\n",
      "conv4_1_1x1_proj/bn left: 0\n",
      "conv4_2_1x1_reduce left: 0\n",
      "conv4_2_1x1_reduce/bn left: 0\n",
      "conv4_2_3x3 left: 0\n",
      "conv4_2_3x3/bn left: 0\n",
      "conv4_2_1x1_increase left: 0\n",
      "conv4_2_1x1_increase/bn left: 0\n",
      "conv4_3_1x1_reduce left: 0\n",
      "conv4_3_1x1_reduce/bn left: 0\n",
      "conv4_3_3x3 left: 0\n",
      "conv4_3_3x3/bn left: 0\n",
      "conv4_3_1x1_increase left: 0\n",
      "conv4_3_1x1_increase/bn left: 0\n",
      "conv4_4_1x1_reduce left: 0\n",
      "conv4_4_1x1_reduce/bn left: 0\n",
      "conv4_4_3x3 left: 0\n",
      "conv4_4_3x3/bn left: 0\n",
      "conv4_4_1x1_increase left: 0\n",
      "conv4_4_1x1_increase/bn left: 0\n",
      "conv4_5_1x1_reduce left: 0\n",
      "conv4_5_1x1_reduce/bn left: 0\n",
      "conv4_5_3x3 left: 0\n",
      "conv4_5_3x3/bn left: 0\n",
      "conv4_5_1x1_increase left: 0\n",
      "conv4_5_1x1_increase/bn left: 0\n",
      "conv4_6_1x1_reduce left: 0\n",
      "conv4_6_1x1_reduce/bn left: 0\n",
      "conv4_6_3x3 left: 0\n",
      "conv4_6_3x3/bn left: 0\n",
      "conv4_6_1x1_increase left: 0\n",
      "conv4_6_1x1_increase/bn left: 0\n",
      "conv4_7_1x1_reduce left: 0\n",
      "conv4_7_1x1_reduce/bn left: 0\n",
      "conv4_7_3x3 left: 0\n",
      "conv4_7_3x3/bn left: 0\n",
      "conv4_7_1x1_increase left: 0\n",
      "conv4_7_1x1_increase/bn left: 0\n",
      "conv4_8_1x1_reduce left: 0\n",
      "conv4_8_1x1_reduce/bn left: 0\n",
      "conv4_8_3x3 left: 0\n",
      "conv4_8_3x3/bn left: 0\n",
      "conv4_8_1x1_increase left: 0\n",
      "conv4_8_1x1_increase/bn left: 0\n",
      "conv4_9_1x1_reduce left: 0\n",
      "conv4_9_1x1_reduce/bn left: 0\n",
      "conv4_9_3x3 left: 0\n",
      "conv4_9_3x3/bn left: 0\n",
      "conv4_9_1x1_increase left: 0\n",
      "conv4_9_1x1_increase/bn left: 0\n",
      "conv4_10_1x1_reduce left: 0\n",
      "conv4_10_1x1_reduce/bn left: 0\n",
      "conv4_10_3x3 left: 0\n",
      "conv4_10_3x3/bn left: 0\n",
      "conv4_10_1x1_increase left: 0\n",
      "conv4_10_1x1_increase/bn left: 0\n",
      "conv4_11_1x1_reduce left: 0\n",
      "conv4_11_1x1_reduce/bn left: 0\n",
      "conv4_11_3x3 left: 0\n",
      "conv4_11_3x3/bn left: 0\n",
      "conv4_11_1x1_increase left: 0\n",
      "conv4_11_1x1_increase/bn left: 0\n",
      "conv4_12_1x1_reduce left: 0\n",
      "conv4_12_1x1_reduce/bn left: 0\n",
      "conv4_12_3x3 left: 0\n",
      "conv4_12_3x3/bn left: 0\n",
      "conv4_12_1x1_increase left: 0\n",
      "conv4_12_1x1_increase/bn left: 0\n",
      "conv4_13_1x1_reduce left: 0\n",
      "conv4_13_1x1_reduce/bn left: 0\n",
      "conv4_13_3x3 left: 0\n",
      "conv4_13_3x3/bn left: 0\n",
      "conv4_13_1x1_increase left: 0\n",
      "conv4_13_1x1_increase/bn left: 0\n",
      "conv4_14_1x1_reduce left: 0\n",
      "conv4_14_1x1_reduce/bn left: 0\n",
      "conv4_14_3x3 left: 0\n",
      "conv4_14_3x3/bn left: 0\n",
      "conv4_14_1x1_increase left: 0\n",
      "conv4_14_1x1_increase/bn left: 0\n",
      "conv4_15_1x1_reduce left: 0\n",
      "conv4_15_1x1_reduce/bn left: 0\n",
      "conv4_15_3x3 left: 0\n",
      "conv4_15_3x3/bn left: 0\n",
      "conv4_15_1x1_increase left: 0\n",
      "conv4_15_1x1_increase/bn left: 0\n",
      "conv4_16_1x1_reduce left: 0\n",
      "conv4_16_1x1_reduce/bn left: 0\n",
      "conv4_16_3x3 left: 0\n",
      "conv4_16_3x3/bn left: 0\n",
      "conv4_16_1x1_increase left: 0\n",
      "conv4_16_1x1_increase/bn left: 0\n",
      "conv4_17_1x1_reduce left: 0\n",
      "conv4_17_1x1_reduce/bn left: 0\n",
      "conv4_17_3x3 left: 0\n",
      "conv4_17_3x3/bn left: 0\n",
      "conv4_17_1x1_increase left: 0\n",
      "conv4_17_1x1_increase/bn left: 0\n",
      "conv4_18_1x1_reduce left: 0\n",
      "conv4_18_1x1_reduce/bn left: 0\n",
      "conv4_18_3x3 left: 0\n",
      "conv4_18_3x3/bn left: 0\n",
      "conv4_18_1x1_increase left: 0\n",
      "conv4_18_1x1_increase/bn left: 0\n",
      "conv4_19_1x1_reduce left: 0\n",
      "conv4_19_1x1_reduce/bn left: 0\n",
      "conv4_19_3x3 left: 0\n",
      "conv4_19_3x3/bn left: 0\n",
      "conv4_19_1x1_increase left: 0\n",
      "conv4_19_1x1_increase/bn left: 0\n",
      "conv4_20_1x1_reduce left: 0\n",
      "conv4_20_1x1_reduce/bn left: 0\n",
      "conv4_20_3x3 left: 0\n",
      "conv4_20_3x3/bn left: 0\n",
      "conv4_20_1x1_increase left: 0\n",
      "conv4_20_1x1_increase/bn left: 0\n",
      "conv4_21_1x1_reduce left: 0\n",
      "conv4_21_1x1_reduce/bn left: 0\n",
      "conv4_21_3x3 left: 0\n",
      "conv4_21_3x3/bn left: 0\n",
      "conv4_21_1x1_increase left: 0\n",
      "conv4_21_1x1_increase/bn left: 0\n",
      "conv4_22_1x1_reduce left: 0\n",
      "conv4_22_1x1_reduce/bn left: 0\n",
      "conv4_22_3x3 left: 0\n",
      "conv4_22_3x3/bn left: 0\n",
      "conv4_22_1x1_increase left: 0\n",
      "conv4_22_1x1_increase/bn left: 0\n",
      "conv4_23_1x1_reduce left: 0\n",
      "conv4_23_1x1_reduce/bn left: 0\n",
      "conv4_23_3x3 left: 0\n",
      "conv4_23_3x3/bn left: 0\n",
      "conv4_23_1x1_increase left: 0\n",
      "conv4_23_1x1_increase/bn left: 0\n",
      "conv5_1_1x1_reduce left: 0\n",
      "conv5_1_1x1_reduce/bn left: 0\n",
      "conv5_1_3x3 left: 0\n",
      "conv5_1_3x3/bn left: 0\n",
      "conv5_1_1x1_increase left: 0\n",
      "conv5_1_1x1_increase/bn left: 0\n",
      "conv5_1_1x1_proj left: 0\n",
      "conv5_1_1x1_proj/bn left: 0\n",
      "conv5_2_1x1_reduce left: 0\n",
      "conv5_2_1x1_reduce/bn left: 0\n",
      "conv5_2_3x3 left: 0\n",
      "conv5_2_3x3/bn left: 0\n",
      "conv5_2_1x1_increase left: 0\n",
      "conv5_2_1x1_increase/bn left: 0\n",
      "conv5_3_1x1_reduce left: 0\n",
      "conv5_3_1x1_reduce/bn left: 0\n",
      "conv5_3_3x3 left: 0\n",
      "conv5_3_3x3/bn left: 0\n",
      "conv5_3_1x1_increase left: 0\n",
      "conv5_3_1x1_increase/bn left: 0\n",
      "ip1/depth left: 0\n",
      "conv6_1/soft left: 0\n",
      "aspp_1/soft left: 0\n",
      "conv6_2/soft left: 0\n",
      "aspp_2/soft left: 0\n",
      "conv6_3/soft left: 0\n",
      "aspp_3/soft left: 0\n",
      "conv6_4/soft left: 0\n",
      "aspp_4/soft left: 0\n",
      "conv6_5/soft left: 0\n",
      "conv7/soft left: 0\n",
      "conv8 left: 0\n",
      "saving to ./caffe_params_nyuv2.npy\n"
     ]
    }
   ],
   "source": [
    "# args = parser.parse_args()\n",
    "net = caffe.Net(proto_path, caffemodel_path, caffe.TRAIN)\n",
    "\n",
    "layers = OrderedDict()\n",
    "for name, params in net.params.items():\n",
    "    layers[name] = {}\n",
    "    # probably only works for DORN's caffe model...\n",
    "    if \"bn\" in name: # batchnorm\n",
    "        print(\"{} left: {}\".format(name, len(params) - 4))\n",
    "        layers[name][\"scale\"] = params[0].data\n",
    "        layers[name][\"shift\"] = params[1].data\n",
    "        layers[name][\"mean\"] = params[2].data\n",
    "        layers[name][\"var\"] = params[3].data\n",
    "    elif \"ip\" in name: # inner product (i.e. fully connected)\n",
    "        print(\"{} left: {}\".format(name, len(params) - 2))\n",
    "        layers[name][\"weight\"] = params[0].data\n",
    "        layers[name][\"bias\"] = params[1].data\n",
    "    else: # convolution\n",
    "        layers[name][\"weight\"] = params[0].data\n",
    "        if len(params) == 2:\n",
    "            print(\"{} left: {}\".format(name, len(params) - 2))\n",
    "            layers[name][\"bias\"] = params[1].data\n",
    "        else:\n",
    "            print(\"{} left: {}\".format(name, len(params) - 1))\n",
    "# Save layers to file\n",
    "with open(npy_path, \"w\") as f:\n",
    "    print(\"saving to {}\".format(npy_path))\n",
    "    np.save(f, layers)"
   ]
  },
  {
   "cell_type": "markdown",
   "metadata": {},
   "source": [
    "### Load numpy file and pytorch network"
   ]
  },
  {
   "cell_type": "code",
   "execution_count": 1,
   "metadata": {},
   "outputs": [],
   "source": [
    "import numpy as np\n",
    "import torch\n",
    "import torch.nn as nn"
   ]
  },
  {
   "cell_type": "code",
   "execution_count": 2,
   "metadata": {},
   "outputs": [],
   "source": [
    "npy_path = \"./caffe_params_nyuv2.npy\"\n",
    "torch_path = \"./torch_params_nyuv2.pth.tar\"\n",
    "layers = np.load(npy_path)\n",
    "layers = layers[()] # Weird indexing thing\n",
    "# print(layers['ip1/depth'][\"weight\"].shape)\n",
    "# print(layers[\"conv1_1_3x3_s2/bn\"].keys())\n",
    "new_layers = {}\n",
    "for key in layers:\n",
    "    new_key = key.replace(\"/\", \"_\")\n",
    "    new_layers[new_key] = layers[key]\n",
    "layers = new_layers"
   ]
  },
  {
   "cell_type": "code",
   "execution_count": 3,
   "metadata": {},
   "outputs": [],
   "source": [
    "# Specific to DORN\n",
    "state_dict = {}\n",
    "for layer_name in layers:\n",
    "    if \"bn\" in layer_name: # Batchnorm\n",
    "        state_dict[layer_name + \".weight\"] = torch.from_numpy(layers[layer_name][\"scale\"].flatten())\n",
    "        state_dict[layer_name + \".bias\"] = torch.from_numpy(layers[layer_name][\"shift\"].flatten())\n",
    "        state_dict[layer_name + \".running_mean\"] = torch.from_numpy(layers[layer_name][\"mean\"].flatten())\n",
    "        state_dict[layer_name + \".running_var\"] = torch.from_numpy(layers[layer_name][\"var\"].flatten())\n",
    "    elif \"ip\" in layer_name: # inner product\n",
    "        state_dict[layer_name + \".weight\"] = torch.from_numpy(layers[layer_name][\"weight\"])\n",
    "        state_dict[layer_name + \".bias\"] = torch.from_numpy(layers[layer_name][\"bias\"])\n",
    "    else:\n",
    "        state_dict[layer_name + \".weight\"] = torch.from_numpy(layers[layer_name][\"weight\"])\n",
    "        if len(layers[layer_name]) == 2:\n",
    "            state_dict[layer_name + \".bias\"] = torch.from_numpy(layers[layer_name][\"bias\"])\n",
    "#             print(layer_name, layers[layer_name][\"weight\"].shape)\n",
    "#             print(layers[layer_name][\"bias\"].shape)\n",
    "        else:\n",
    "            pass\n",
    "#             print(layer_name, layers[layer_name][\"weight\"].shape)\n",
    "#             state_dict[layer_name + \".bias\"] = torch.zeros(layers[layer_name][\"weight\"].shape[0])"
   ]
  },
  {
   "cell_type": "code",
   "execution_count": 4,
   "metadata": {},
   "outputs": [],
   "source": [
    "from DORN_pytorch import DORN_nyu"
   ]
  },
  {
   "cell_type": "code",
   "execution_count": 5,
   "metadata": {},
   "outputs": [],
   "source": [
    "net = DORN_nyu()"
   ]
  },
  {
   "cell_type": "code",
   "execution_count": 6,
   "metadata": {},
   "outputs": [],
   "source": [
    "net.load_state_dict(state_dict)"
   ]
  },
  {
   "cell_type": "code",
   "execution_count": 7,
   "metadata": {},
   "outputs": [],
   "source": [
    "torch.save(net.state_dict(), torch_path)"
   ]
  },
  {
   "cell_type": "markdown",
   "metadata": {},
   "source": [
    "### Test the loaded network"
   ]
  },
  {
   "cell_type": "code",
   "execution_count": 1,
   "metadata": {},
   "outputs": [],
   "source": [
    "import torch\n",
    "import torchvision.transforms as transforms\n",
    "from DORN_pytorch import DORN_nyu\n",
    "from PIL import Image\n",
    "import numpy as np\n",
    "import cv2\n",
    "\n",
    "def decode_ord(data_pytorch):\n",
    "    \"\"\"Takes a pytorch tensor, converts to numpy, then\n",
    "    does the ordinal loss decoding.\n",
    "    \"\"\"\n",
    "    data = data_pytorch.numpy()\n",
    "    N = data.shape[0]\n",
    "    C = data.shape[1]\n",
    "    H = data.shape[2]\n",
    "    W = data.shape[3]\n",
    "#     ord_labels = bottom[0].data.copy()\n",
    "    ord_labels = data\n",
    "    decode_label = np.zeros((N, 1, H, W), dtype=np.float32)\n",
    "    ord_num = C/2\n",
    "    for i in range(int(ord_num)):\n",
    "        ord_i = ord_labels[:,2*i:2*i+2,:,:]\n",
    "        decode_label = decode_label + np.argmax(ord_i, axis=1)\n",
    "    return decode_label.astype(np.float32, copy=False)\n",
    "\n",
    "def convert_to_uint8(img, min_val, max_val):\n",
    "    return np.uint8((img - min_val)/(max_val - min_val)*255.0)"
   ]
  },
  {
   "cell_type": "code",
   "execution_count": 2,
   "metadata": {},
   "outputs": [
    {
     "name": "stdout",
     "output_type": "stream",
     "text": [
      "('pil', array([55, 32, 36], dtype=uint8))\n",
      "('pil', (257, 353, 3))\n",
      "('cv2', array([-67.25455, -83.9029 , -68.35469], dtype=float32))\n",
      "('cv2', (257, 353, 3))\n",
      "tensor([-71.9469, -85.1651, -69.0539])\n"
     ]
    }
   ],
   "source": [
    "# DORN-specific preprocessing\n",
    "img_file = \"./data/NYUV2/demo_01.png\"\n",
    "out_file = \"./result/NYUV2/pytorch/out_01.png\"\n",
    "pixel_means = torch.tensor([103.0626, 115.9029, 123.1516]).unsqueeze(-1).unsqueeze(-1)\n",
    "# print(pixel_means)\n",
    "transform = transforms.Compose([\n",
    "    transforms.Resize((257, 353)), # (Height, Width)\n",
    "#     transforms.ToTensor()\n",
    "])\n",
    "rgb_pil = Image.open(img_file)\n",
    "# print(\"pil\", rgb_pil.getpixel((6, 7)))\n",
    "H, W = rgb_pil.size\n",
    "# print(H,W)\n",
    "rgb_pil = transform(rgb_pil)\n",
    "rgb_torch = np.array(rgb_pil)\n",
    "print(\"pil\", rgb_torch[7, 6])\n",
    "print(\"pil\", rgb_torch.shape)\n",
    "# rgb_torch = np.array(rgb_torch) - np.array([[[103.0626, 115.9029, 123.1516]]])\n",
    "# rgb = rgb.unsqueeze(0)\n",
    "\n",
    "rgb_cv2 = cv2.imread(img_file, cv2.IMREAD_COLOR)\n",
    "rgb_cv2 = rgb_cv2.astype(np.float32)\n",
    "rgb_cv2 = rgb_cv2 - np.array([[[103.0626, 115.9029, 123.1516]]]).astype(np.float32)\n",
    "# rgb_np -= np.array([[[103.0626, 115.9029, 123.1516]]])\n",
    "rgb_cv2 = cv2.resize(rgb_cv2, (353, 257), interpolation=cv2.INTER_LINEAR)\n",
    "print(\"cv2\", rgb_cv2[7, 6])\n",
    "print(\"cv2\", rgb_cv2.shape)\n",
    "\n",
    "rgb = torch.from_numpy(rgb_cv2.transpose(2,0,1)).unsqueeze(0)\n",
    "print(rgb[0, :, 6, 7])"
   ]
  },
  {
   "cell_type": "code",
   "execution_count": 3,
   "metadata": {},
   "outputs": [],
   "source": [
    "torch_path = \"./torch_params_nyuv2.pth.tar\"\n",
    "net = DORN_nyu()\n",
    "net.load_state_dict(torch.load(torch_path))\n",
    "net.eval();"
   ]
  },
  {
   "cell_type": "code",
   "execution_count": 4,
   "metadata": {},
   "outputs": [
    {
     "name": "stdout",
     "output_type": "stream",
     "text": [
      "('input', torch.Size([1, 3, 257, 353]))\n",
      "('conv1', torch.Size([1, 128, 65, 89]))\n",
      "('conv2', torch.Size([1, 256, 65, 89]))\n",
      "('conv3', torch.Size([1, 512, 33, 45]))\n",
      "('conv4', torch.Size([1, 1024, 33, 45]))\n",
      "('before avg pool', torch.Size([1, 2048, 33, 45]))\n",
      "('after', torch.Size([1, 2048, 5, 6]))\n",
      "torch.Size([1, 2048, 5, 6])\n",
      "('before zoom', torch.Size([1, 136, 33, 45]))\n"
     ]
    },
    {
     "name": "stderr",
     "output_type": "stream",
     "text": [
      "/home/markn1/anaconda3/envs/caffe/lib/python2.7/site-packages/torch/nn/functional.py:2423: UserWarning: Default upsampling behavior when mode=bilinear is changed to align_corners=False since 0.4.0. Please specify align_corners=True if the old behavior is desired. See the documentation of nn.Upsample for details.\n",
      "  \"See the documentation of nn.Upsample for details.\".format(mode))\n"
     ]
    }
   ],
   "source": [
    "with torch.no_grad():\n",
    "    pytorch_probs = net(rgb)"
   ]
  },
  {
   "cell_type": "code",
   "execution_count": 5,
   "metadata": {},
   "outputs": [
    {
     "data": {
      "text/plain": [
       "torch.Size([1, 136, 257, 353])"
      ]
     },
     "execution_count": 5,
     "metadata": {},
     "output_type": "execute_result"
    }
   ],
   "source": [
    "pytorch_probs.size()"
   ]
  },
  {
   "cell_type": "code",
   "execution_count": 6,
   "metadata": {},
   "outputs": [],
   "source": [
    "decoded = decode_ord(pytorch_probs)"
   ]
  },
  {
   "cell_type": "code",
   "execution_count": 7,
   "metadata": {},
   "outputs": [],
   "source": [
    "pred = decoded\n",
    "pred = pred[0,0,:,:] - 1.0 #offset = 1\n",
    "pred = pred/25.0 - 0.36\n",
    "pred = np.exp(pred)\n",
    "ord_score = cv2.resize(pred, (H, W), interpolation=cv2.INTER_LINEAR)\n",
    "min_depth = 0.\n",
    "max_depth = 10.\n",
    "depth_img = convert_to_uint8(ord_score, min_depth, max_depth)"
   ]
  },
  {
   "cell_type": "code",
   "execution_count": 8,
   "metadata": {},
   "outputs": [
    {
     "data": {
      "image/png": "[encoded data removed]",
      "text/plain": [
       "<PIL.Image.Image image mode=L size=640x480 at 0x7F9CB0C8DA90>"
      ]
     },
     "execution_count": 8,
     "metadata": {},
     "output_type": "execute_result"
    }
   ],
   "source": [
    "Image.fromarray(depth_img)"
   ]
  },
  {
   "cell_type": "code",
   "execution_count": 9,
   "metadata": {},
   "outputs": [],
   "source": [
    "import caffe\n",
    "\n",
    "def depth_prediction(filename, net, pixel_means):\n",
    "    img = cv2.imread(filename, cv2.IMREAD_COLOR)\n",
    "    img = img.astype(np.float32)\n",
    "    H = img.shape[0]\n",
    "    W = img.shape[1]\n",
    "    img -= pixel_means\n",
    "    img = cv2.resize(img, (353, 257), interpolation=cv2.INTER_LINEAR)\n",
    "    data = img.copy()\n",
    "    data = data[None, :]\n",
    "    data = data.transpose(0,3,1,2)\n",
    "    blobs = {}\n",
    "    blobs['data'] = data\n",
    "    net.blobs['data'].reshape(*(blobs['data'].shape))\n",
    "    forward_kwargs = {'data': blobs['data'].astype(np.float32, copy=False)}\n",
    "#     print(forward_kwargs[\"data\"][0, :, 6, 7])\n",
    "    net.forward(**forward_kwargs)\n",
    "\n",
    "#     pred = net.blobs['conv3_out'].data.copy()\n",
    "#     pred = net.blobs['decode_ord'].data.copy()\n",
    "#     pred = net.blobs['log_probs'].data.copy()\n",
    "#     pred = net.blobs['resnet'].data.copy()\n",
    "#     pred = net.blobs['conv1_1_3x3_s2'].data.copy()\n",
    "#     return pred, data\n",
    "###\n",
    "    pred = net.blobs['decode_ord'].data.copy()\n",
    "    pred = pred[0,0,:,:] - 1.0\n",
    "    pred = pred/25.0 - 0.36\n",
    "    pred = np.exp(pred)\n",
    "    ord_score = cv2.resize(pred, (W, H), interpolation=cv2.INTER_LINEAR)\n",
    "    return ord_score, net.blobs\n",
    "# Load the original network in caffe to check\n",
    "caffe_net = caffe.Net('models/NYUV2/deploy.prototxt', 'models/NYUV2/cvpr_nyuv2.caffemodel', caffe.TEST)\n",
    "\n",
    "caffe_pred, blobs = depth_prediction(img_file, caffe_net, np.array([[[103.0626, 115.9029, 123.1516]]]))\n"
   ]
  },
  {
   "cell_type": "code",
   "execution_count": 32,
   "metadata": {},
   "outputs": [
    {
     "name": "stdout",
     "output_type": "stream",
     "text": [
      "True\n",
      "True\n",
      "True\n",
      "True\n",
      "True\n",
      "True\n",
      "True\n",
      "True\n",
      "True\n",
      "True\n",
      "True\n",
      "True\n",
      "True\n",
      "True\n",
      "0.0\n"
     ]
    },
    {
     "ename": "AttributeError",
     "evalue": "'DORN_nyu' object has no attribute 'aspp'",
     "output_type": "error",
     "traceback": [
      "\u001b[0;31m-------------------------------------------------------------------------\u001b[0m",
      "\u001b[0;31mAttributeError\u001b[0m                          Traceback (most recent call last)",
      "\u001b[0;32m<ipython-input-32-34956dddb8b8>\u001b[0m in \u001b[0;36m<module>\u001b[0;34m()\u001b[0m\n\u001b[1;32m     16\u001b[0m \u001b[0;32mprint\u001b[0m\u001b[0;34m(\u001b[0m\u001b[0;34m(\u001b[0m\u001b[0mnp\u001b[0m\u001b[0;34m.\u001b[0m\u001b[0mabs\u001b[0m\u001b[0;34m(\u001b[0m\u001b[0mblobs\u001b[0m\u001b[0;34m[\u001b[0m\u001b[0;34m'conv6_5'\u001b[0m\u001b[0;34m]\u001b[0m\u001b[0;34m.\u001b[0m\u001b[0mdata\u001b[0m \u001b[0;34m-\u001b[0m \u001b[0mnet\u001b[0m\u001b[0;34m.\u001b[0m\u001b[0maspp5_out\u001b[0m\u001b[0;34m.\u001b[0m\u001b[0mnumpy\u001b[0m\u001b[0;34m(\u001b[0m\u001b[0;34m)\u001b[0m\u001b[0;34m)\u001b[0m \u001b[0;34m<=\u001b[0m \u001b[0meps\u001b[0m\u001b[0;34m)\u001b[0m\u001b[0;34m.\u001b[0m\u001b[0mall\u001b[0m\u001b[0;34m(\u001b[0m\u001b[0;34m)\u001b[0m\u001b[0;34m)\u001b[0m\u001b[0;34m\u001b[0m\u001b[0m\n\u001b[1;32m     17\u001b[0m \u001b[0;32mprint\u001b[0m\u001b[0;34m(\u001b[0m\u001b[0mblobs\u001b[0m\u001b[0;34m[\u001b[0m\u001b[0;34m'conv6_5'\u001b[0m\u001b[0;34m]\u001b[0m\u001b[0;34m.\u001b[0m\u001b[0mdata\u001b[0m\u001b[0;34m[\u001b[0m\u001b[0;36m0\u001b[0m\u001b[0;34m,\u001b[0m\u001b[0;36m8\u001b[0m\u001b[0;34m,\u001b[0m\u001b[0;36m0\u001b[0m\u001b[0;34m,\u001b[0m\u001b[0;36m0\u001b[0m\u001b[0;34m]\u001b[0m\u001b[0;34m)\u001b[0m\u001b[0;34m\u001b[0m\u001b[0m\n\u001b[0;32m---> 18\u001b[0;31m \u001b[0;32mprint\u001b[0m\u001b[0;34m(\u001b[0m\u001b[0mnet\u001b[0m\u001b[0;34m.\u001b[0m\u001b[0maspp\u001b[0m\u001b[0;34m.\u001b[0m\u001b[0mnumpy\u001b[0m\u001b[0;34m(\u001b[0m\u001b[0;34m)\u001b[0m\u001b[0;34m[\u001b[0m\u001b[0;36m0\u001b[0m\u001b[0;34m,\u001b[0m\u001b[0;36m8\u001b[0m\u001b[0;34m,\u001b[0m\u001b[0;36m0\u001b[0m\u001b[0;34m,\u001b[0m\u001b[0;36m0\u001b[0m\u001b[0;34m]\u001b[0m\u001b[0;34m)\u001b[0m\u001b[0;34m\u001b[0m\u001b[0m\n\u001b[0m\u001b[1;32m     19\u001b[0m \u001b[0;31m# print(net.)\u001b[0m\u001b[0;34m\u001b[0m\u001b[0;34m\u001b[0m\u001b[0m\n",
      "\u001b[0;32m/home/markn1/anaconda3/envs/caffe/lib/python2.7/site-packages/torch/nn/modules/module.pyc\u001b[0m in \u001b[0;36m__getattr__\u001b[0;34m(self, name)\u001b[0m\n\u001b[1;32m    533\u001b[0m                 \u001b[0;32mreturn\u001b[0m \u001b[0mmodules\u001b[0m\u001b[0;34m[\u001b[0m\u001b[0mname\u001b[0m\u001b[0;34m]\u001b[0m\u001b[0;34m\u001b[0m\u001b[0m\n\u001b[1;32m    534\u001b[0m         raise AttributeError(\"'{}' object has no attribute '{}'\".format(\n\u001b[0;32m--> 535\u001b[0;31m             type(self).__name__, name))\n\u001b[0m\u001b[1;32m    536\u001b[0m \u001b[0;34m\u001b[0m\u001b[0m\n\u001b[1;32m    537\u001b[0m     \u001b[0;32mdef\u001b[0m \u001b[0m__setattr__\u001b[0m\u001b[0;34m(\u001b[0m\u001b[0mself\u001b[0m\u001b[0;34m,\u001b[0m \u001b[0mname\u001b[0m\u001b[0;34m,\u001b[0m \u001b[0mvalue\u001b[0m\u001b[0;34m)\u001b[0m\u001b[0;34m:\u001b[0m\u001b[0;34m\u001b[0m\u001b[0m\n",
      "\u001b[0;31mAttributeError\u001b[0m: 'DORN_nyu' object has no attribute 'aspp'"
     ]
    }
   ],
   "source": [
    "# Verifying that layer outputs are the same\n",
    "eps = 5e-4\n",
    "print((np.abs(blobs['pool1_3x3_s2'].data - net.conv1_out.numpy()) <= eps).all())\n",
    "print((np.abs(blobs['conv2_3'].data - net.conv2_out.numpy()) <= eps).all())\n",
    "print((np.abs(blobs['conv3_4'].data - net.conv3_out.numpy()) <= eps).all())\n",
    "print((np.abs(blobs['conv4_4'].data - net.conv4_4_out.numpy()) <= eps).all())\n",
    "print((np.abs(blobs['conv4_8'].data - net.conv4_8_out.numpy()) <= eps).all())\n",
    "print((np.abs(blobs['conv4_12'].data - net.conv4_12_out.numpy()) <= eps).all())\n",
    "print((np.abs(blobs['conv4_16'].data - net.conv4_16_out.numpy()) <= eps).all())\n",
    "print((np.abs(blobs['conv4_20'].data - net.conv4_20_out.numpy()) <= eps).all())\n",
    "print((np.abs(blobs['conv4_23'].data - net.conv4_23_out.numpy()) <= eps).all())\n",
    "print((np.abs(blobs['conv6_1'].data - net.encoder_out.numpy()) <= eps).all())\n",
    "print((np.abs(blobs['conv6_2'].data - net.aspp2_out.numpy()) <= eps).all())\n",
    "print((np.abs(blobs['conv6_3'].data - net.aspp3_out.numpy()) <= eps).all())\n",
    "print((np.abs(blobs['conv6_4'].data - net.aspp4_out.numpy()) <= eps).all())\n",
    "print((np.abs(blobs['conv6_5'].data - net.aspp5_out.numpy()) <= eps).all())\n",
    "print(blobs['conv6_5'].data[0,8,0,0])\n",
    "print(net.aspp.numpy()[0,8,0,0])\n",
    "# print(net.)"
   ]
  },
  {
   "cell_type": "code",
   "execution_count": 20,
   "metadata": {},
   "outputs": [
    {
     "data": {
      "text/plain": [
       "['data',\n",
       " 'conv1_1_3x3_s2',\n",
       " 'conv1_2_3x3',\n",
       " 'conv1_3_3x3',\n",
       " 'pool1_3x3_s2',\n",
       " 'pool1_3x3_s2_pool1_3x3_s2_0_split_0',\n",
       " 'pool1_3x3_s2_pool1_3x3_s2_0_split_1',\n",
       " 'conv2_1_1x1_reduce',\n",
       " 'conv2_1_3x3',\n",
       " 'conv2_1_1x1_increase',\n",
       " 'conv2_1_1x1_proj',\n",
       " 'conv2_1',\n",
       " 'conv2_1_conv2_1/relu_0_split_0',\n",
       " 'conv2_1_conv2_1/relu_0_split_1',\n",
       " 'conv2_2_1x1_reduce',\n",
       " 'conv2_2_3x3',\n",
       " 'conv2_2_1x1_increase',\n",
       " 'conv2_2',\n",
       " 'conv2_2_conv2_2/relu_0_split_0',\n",
       " 'conv2_2_conv2_2/relu_0_split_1',\n",
       " 'conv2_3_1x1_reduce',\n",
       " 'conv2_3_3x3',\n",
       " 'conv2_3_1x1_increase',\n",
       " 'conv2_3',\n",
       " 'conv2_3_conv2_3/relu_0_split_0',\n",
       " 'conv2_3_conv2_3/relu_0_split_1',\n",
       " 'conv3_1_1x1_reduce',\n",
       " 'conv3_1_3x3',\n",
       " 'conv3_1_1x1_increase',\n",
       " 'conv3_1_1x1_proj',\n",
       " 'conv3_1',\n",
       " 'conv3_1_conv3_1/relu_0_split_0',\n",
       " 'conv3_1_conv3_1/relu_0_split_1',\n",
       " 'conv3_2_1x1_reduce',\n",
       " 'conv3_2_3x3',\n",
       " 'conv3_2_1x1_increase',\n",
       " 'conv3_2',\n",
       " 'conv3_2_conv3_2/relu_0_split_0',\n",
       " 'conv3_2_conv3_2/relu_0_split_1',\n",
       " 'conv3_3_1x1_reduce',\n",
       " 'conv3_3_3x3',\n",
       " 'conv3_3_1x1_increase',\n",
       " 'conv3_3',\n",
       " 'conv3_3_conv3_3/relu_0_split_0',\n",
       " 'conv3_3_conv3_3/relu_0_split_1',\n",
       " 'conv3_4_1x1_reduce',\n",
       " 'conv3_4_3x3',\n",
       " 'conv3_4_1x1_increase',\n",
       " 'conv3_4',\n",
       " 'conv3_4_conv3_4/relu_0_split_0',\n",
       " 'conv3_4_conv3_4/relu_0_split_1',\n",
       " 'conv4_1_1x1_reduce',\n",
       " 'conv4_1_3x3',\n",
       " 'conv4_1_1x1_increase',\n",
       " 'conv4_1_1x1_proj',\n",
       " 'conv4_1',\n",
       " 'conv4_1_conv4_1/relu_0_split_0',\n",
       " 'conv4_1_conv4_1/relu_0_split_1',\n",
       " 'conv4_2_1x1_reduce',\n",
       " 'conv4_2_3x3',\n",
       " 'conv4_2_1x1_increase',\n",
       " 'conv4_2',\n",
       " 'conv4_2_conv4_2/relu_0_split_0',\n",
       " 'conv4_2_conv4_2/relu_0_split_1',\n",
       " 'conv4_3_1x1_reduce',\n",
       " 'conv4_3_3x3',\n",
       " 'conv4_3_1x1_increase',\n",
       " 'conv4_3',\n",
       " 'conv4_3_conv4_3/relu_0_split_0',\n",
       " 'conv4_3_conv4_3/relu_0_split_1',\n",
       " 'conv4_4_1x1_reduce',\n",
       " 'conv4_4_3x3',\n",
       " 'conv4_4_1x1_increase',\n",
       " 'conv4_4',\n",
       " 'conv4_4_conv4_4/relu_0_split_0',\n",
       " 'conv4_4_conv4_4/relu_0_split_1',\n",
       " 'conv4_5_1x1_reduce',\n",
       " 'conv4_5_3x3',\n",
       " 'conv4_5_1x1_increase',\n",
       " 'conv4_5',\n",
       " 'conv4_5_conv4_5/relu_0_split_0',\n",
       " 'conv4_5_conv4_5/relu_0_split_1',\n",
       " 'conv4_6_1x1_reduce',\n",
       " 'conv4_6_3x3',\n",
       " 'conv4_6_1x1_increase',\n",
       " 'conv4_6',\n",
       " 'conv4_6_conv4_6/relu_0_split_0',\n",
       " 'conv4_6_conv4_6/relu_0_split_1',\n",
       " 'conv4_7_1x1_reduce',\n",
       " 'conv4_7_3x3',\n",
       " 'conv4_7_1x1_increase',\n",
       " 'conv4_7',\n",
       " 'conv4_7_conv4_7/relu_0_split_0',\n",
       " 'conv4_7_conv4_7/relu_0_split_1',\n",
       " 'conv4_8_1x1_reduce',\n",
       " 'conv4_8_3x3',\n",
       " 'conv4_8_1x1_increase',\n",
       " 'conv4_8',\n",
       " 'conv4_8_conv4_8/relu_0_split_0',\n",
       " 'conv4_8_conv4_8/relu_0_split_1',\n",
       " 'conv4_9_1x1_reduce',\n",
       " 'conv4_9_3x3',\n",
       " 'conv4_9_1x1_increase',\n",
       " 'conv4_9',\n",
       " 'conv4_9_conv4_9/relu_0_split_0',\n",
       " 'conv4_9_conv4_9/relu_0_split_1',\n",
       " 'conv4_10_1x1_reduce',\n",
       " 'conv4_10_3x3',\n",
       " 'conv4_10_1x1_increase',\n",
       " 'conv4_10',\n",
       " 'conv4_10_conv4_10/relu_0_split_0',\n",
       " 'conv4_10_conv4_10/relu_0_split_1',\n",
       " 'conv4_11_1x1_reduce',\n",
       " 'conv4_11_3x3',\n",
       " 'conv4_11_1x1_increase',\n",
       " 'conv4_11',\n",
       " 'conv4_11_conv4_11/relu_0_split_0',\n",
       " 'conv4_11_conv4_11/relu_0_split_1',\n",
       " 'conv4_12_1x1_reduce',\n",
       " 'conv4_12_3x3',\n",
       " 'conv4_12_1x1_increase',\n",
       " 'conv4_12',\n",
       " 'conv4_12_conv4_12/relu_0_split_0',\n",
       " 'conv4_12_conv4_12/relu_0_split_1',\n",
       " 'conv4_13_1x1_reduce',\n",
       " 'conv4_13_3x3',\n",
       " 'conv4_13_1x1_increase',\n",
       " 'conv4_13',\n",
       " 'conv4_13_conv4_13/relu_0_split_0',\n",
       " 'conv4_13_conv4_13/relu_0_split_1',\n",
       " 'conv4_14_1x1_reduce',\n",
       " 'conv4_14_3x3',\n",
       " 'conv4_14_1x1_increase',\n",
       " 'conv4_14',\n",
       " 'conv4_14_conv4_14/relu_0_split_0',\n",
       " 'conv4_14_conv4_14/relu_0_split_1',\n",
       " 'conv4_15_1x1_reduce',\n",
       " 'conv4_15_3x3',\n",
       " 'conv4_15_1x1_increase',\n",
       " 'conv4_15',\n",
       " 'conv4_15_conv4_15/relu_0_split_0',\n",
       " 'conv4_15_conv4_15/relu_0_split_1',\n",
       " 'conv4_16_1x1_reduce',\n",
       " 'conv4_16_3x3',\n",
       " 'conv4_16_1x1_increase',\n",
       " 'conv4_16',\n",
       " 'conv4_16_conv4_16/relu_0_split_0',\n",
       " 'conv4_16_conv4_16/relu_0_split_1',\n",
       " 'conv4_17_1x1_reduce',\n",
       " 'conv4_17_3x3',\n",
       " 'conv4_17_1x1_increase',\n",
       " 'conv4_17',\n",
       " 'conv4_17_conv4_17/relu_0_split_0',\n",
       " 'conv4_17_conv4_17/relu_0_split_1',\n",
       " 'conv4_18_1x1_reduce',\n",
       " 'conv4_18_3x3',\n",
       " 'conv4_18_1x1_increase',\n",
       " 'conv4_18',\n",
       " 'conv4_18_conv4_18/relu_0_split_0',\n",
       " 'conv4_18_conv4_18/relu_0_split_1',\n",
       " 'conv4_19_1x1_reduce',\n",
       " 'conv4_19_3x3',\n",
       " 'conv4_19_1x1_increase',\n",
       " 'conv4_19',\n",
       " 'conv4_19_conv4_19/relu_0_split_0',\n",
       " 'conv4_19_conv4_19/relu_0_split_1',\n",
       " 'conv4_20_1x1_reduce',\n",
       " 'conv4_20_3x3',\n",
       " 'conv4_20_1x1_increase',\n",
       " 'conv4_20',\n",
       " 'conv4_20_conv4_20/relu_0_split_0',\n",
       " 'conv4_20_conv4_20/relu_0_split_1',\n",
       " 'conv4_21_1x1_reduce',\n",
       " 'conv4_21_3x3',\n",
       " 'conv4_21_1x1_increase',\n",
       " 'conv4_21',\n",
       " 'conv4_21_conv4_21/relu_0_split_0',\n",
       " 'conv4_21_conv4_21/relu_0_split_1',\n",
       " 'conv4_22_1x1_reduce',\n",
       " 'conv4_22_3x3',\n",
       " 'conv4_22_1x1_increase',\n",
       " 'conv4_22',\n",
       " 'conv4_22_conv4_22/relu_0_split_0',\n",
       " 'conv4_22_conv4_22/relu_0_split_1',\n",
       " 'conv4_23_1x1_reduce',\n",
       " 'conv4_23_3x3',\n",
       " 'conv4_23_1x1_increase',\n",
       " 'conv4_23',\n",
       " 'conv4_23_conv4_23/relu_0_split_0',\n",
       " 'conv4_23_conv4_23/relu_0_split_1',\n",
       " 'conv5_1_1x1_reduce',\n",
       " 'conv5_1_3x3',\n",
       " 'conv5_1_1x1_increase',\n",
       " 'conv5_1_1x1_proj',\n",
       " 'conv5_1',\n",
       " 'conv5_1_conv5_1/relu_0_split_0',\n",
       " 'conv5_1_conv5_1/relu_0_split_1',\n",
       " 'conv5_2_1x1_reduce',\n",
       " 'conv5_2_3x3',\n",
       " 'conv5_2_1x1_increase',\n",
       " 'conv5_2',\n",
       " 'conv5_2_conv5_2/relu_0_split_0',\n",
       " 'conv5_2_conv5_2/relu_0_split_1',\n",
       " 'conv5_3_1x1_reduce',\n",
       " 'conv5_3_3x3',\n",
       " 'conv5_3_1x1_increase',\n",
       " 'conv5_3',\n",
       " 'conv5_3_conv5_3/relu_0_split_0',\n",
       " 'conv5_3_conv5_3/relu_0_split_1',\n",
       " 'conv5_3_conv5_3/relu_0_split_2',\n",
       " 'conv5_3_conv5_3/relu_0_split_3',\n",
       " 'conv5_3_conv5_3/relu_0_split_4',\n",
       " 'reduce_pooling',\n",
       " 'drop/reduce',\n",
       " 'ip1',\n",
       " 'reshape/ip1',\n",
       " 'conv6_1',\n",
       " 'interp/conv6_1',\n",
       " 'aspp_1',\n",
       " 'conv6_2',\n",
       " 'aspp_2',\n",
       " 'conv6_3',\n",
       " 'aspp_3',\n",
       " 'conv6_4',\n",
       " 'aspp_4',\n",
       " 'conv6_5',\n",
       " 'conv6_concat',\n",
       " 'drop/conv6',\n",
       " 'conv7',\n",
       " 'drop/conv7',\n",
       " 'conv8',\n",
       " 'zoom/conv8',\n",
       " 'decode_ord']"
      ]
     },
     "execution_count": 20,
     "metadata": {},
     "output_type": "execute_result"
    }
   ],
   "source": [
    "blobs.keys()"
   ]
  },
  {
   "cell_type": "code",
   "execution_count": 18,
   "metadata": {},
   "outputs": [
    {
     "name": "stdout",
     "output_type": "stream",
     "text": [
      "[24.25188   -3.4752297  8.0227165]\n",
      "tensor([24.2519, -3.4752,  8.0227])\n"
     ]
    }
   ],
   "source": [
    "# Verifying that the inputs are the same\n",
    "# caffe_pred[0,0,0,0]\n",
    "print(img[0,:,44, 86])\n",
    "print(rgb[0, :, 44, 86])"
   ]
  },
  {
   "cell_type": "code",
   "execution_count": 19,
   "metadata": {},
   "outputs": [
    {
     "data": {
      "text/plain": [
       "tensor(16.7508)"
      ]
     },
     "execution_count": 19,
     "metadata": {},
     "output_type": "execute_result"
    }
   ],
   "source": [
    "net.conv3_out[0,0,0,0]"
   ]
  },
  {
   "cell_type": "code",
   "execution_count": 23,
   "metadata": {},
   "outputs": [
    {
     "data": {
      "image/png": "[encoded data removed]",
      "text/plain": [
       "<PIL.Image.Image image mode=L size=640x480 at 0x7EF9840C9750>"
      ]
     },
     "execution_count": 23,
     "metadata": {},
     "output_type": "execute_result"
    }
   ],
   "source": [
    "caffe_img = convert_to_uint8(caffe_pred, 0., 10.)\n",
    "Image.fromarray(caffe_img)"
   ]
  },
  {
   "cell_type": "code",
   "execution_count": 21,
   "metadata": {},
   "outputs": [
    {
     "name": "stdout",
     "output_type": "stream",
     "text": [
      "368154\n",
      "333870\n"
     ]
    }
   ],
   "source": []
  },
  {
   "cell_type": "code",
   "execution_count": null,
   "metadata": {},
   "outputs": [],
   "source": [
    "pytorch_probs[0,0,0,7]"
   ]
  },
  {
   "cell_type": "code",
   "execution_count": 5,
   "metadata": {},
   "outputs": [],
   "source": [
    "import torch.nn.functional as F"
   ]
  },
  {
   "cell_type": "code",
   "execution_count": 8,
   "metadata": {},
   "outputs": [],
   "source": [
    "test = torch.ones(5, 5).unsqueeze(0).unsqueeze(0)"
   ]
  },
  {
   "cell_type": "code",
   "execution_count": 17,
   "metadata": {},
   "outputs": [
    {
     "data": {
      "text/plain": [
       "tensor([[[[1., 1., 1.],\n",
       "          [1., 1., 1.],\n",
       "          [1., 1., 1.]]]])"
      ]
     },
     "execution_count": 17,
     "metadata": {},
     "output_type": "execute_result"
    }
   ],
   "source": [
    "F.avg_pool2d(test, kernel_size=2, ceil_mode=True)"
   ]
  },
  {
   "cell_type": "code",
   "execution_count": 37,
   "metadata": {},
   "outputs": [
    {
     "data": {
      "text/plain": [
       "151.93740844726562"
      ]
     },
     "execution_count": 37,
     "metadata": {},
     "output_type": "execute_result"
    }
   ],
   "source": [
    "rgb[0,0,0,1].numpy().tolist()"
   ]
  },
  {
   "cell_type": "code",
   "execution_count": 36,
   "metadata": {},
   "outputs": [
    {
     "data": {
      "text/plain": [
       "151.93739318847656"
      ]
     },
     "execution_count": 36,
     "metadata": {},
     "output_type": "execute_result"
    }
   ],
   "source": [
    "img[0,0,0,1].tolist()"
   ]
  },
  {
   "cell_type": "code",
   "execution_count": 38,
   "metadata": {},
   "outputs": [
    {
     "data": {
      "text/plain": [
       "array([[[[9.3132257e-10, 2.3283064e-10, 2.3283064e-10, ...,\n",
       "          2.3283064e-10, 2.3283064e-10, 2.3283064e-10],\n",
       "         [9.3132257e-10, 2.3283064e-10, 2.3283064e-10, ...,\n",
       "          2.3283064e-10, 2.3283064e-10, 2.3283064e-10],\n",
       "         [9.3132257e-10, 2.3283064e-10, 2.3283064e-10, ...,\n",
       "          2.3283064e-10, 2.3283064e-10, 2.3283064e-10],\n",
       "         ...,\n",
       "         [9.3132257e-10, 2.3283064e-10, 2.3283064e-10, ...,\n",
       "          2.3283064e-10, 2.3283064e-10, 2.3283064e-10],\n",
       "         [9.3132257e-10, 2.3283064e-10, 2.3283064e-10, ...,\n",
       "          2.3283064e-10, 2.3283064e-10, 2.3283064e-10],\n",
       "         [9.3132257e-10, 2.3283064e-10, 2.3283064e-10, ...,\n",
       "          2.3283064e-10, 2.3283064e-10, 2.3283064e-10]],\n",
       "\n",
       "        [[0.0000000e+00, 0.0000000e+00, 0.0000000e+00, ...,\n",
       "          0.0000000e+00, 0.0000000e+00, 0.0000000e+00],\n",
       "         [0.0000000e+00, 0.0000000e+00, 0.0000000e+00, ...,\n",
       "          0.0000000e+00, 0.0000000e+00, 0.0000000e+00],\n",
       "         [0.0000000e+00, 0.0000000e+00, 0.0000000e+00, ...,\n",
       "          0.0000000e+00, 0.0000000e+00, 0.0000000e+00],\n",
       "         ...,\n",
       "         [0.0000000e+00, 0.0000000e+00, 0.0000000e+00, ...,\n",
       "          0.0000000e+00, 0.0000000e+00, 0.0000000e+00],\n",
       "         [0.0000000e+00, 0.0000000e+00, 0.0000000e+00, ...,\n",
       "          0.0000000e+00, 0.0000000e+00, 0.0000000e+00],\n",
       "         [0.0000000e+00, 0.0000000e+00, 0.0000000e+00, ...,\n",
       "          0.0000000e+00, 0.0000000e+00, 0.0000000e+00]],\n",
       "\n",
       "        [[2.3283064e-10, 2.3283064e-10, 2.3283064e-10, ...,\n",
       "          2.3283064e-10, 2.3283064e-10, 2.3283064e-10],\n",
       "         [2.3283064e-10, 2.3283064e-10, 2.3283064e-10, ...,\n",
       "          2.3283064e-10, 2.3283064e-10, 2.3283064e-10],\n",
       "         [2.3283064e-10, 2.3283064e-10, 2.3283064e-10, ...,\n",
       "          2.3283064e-10, 2.3283064e-10, 2.3283064e-10],\n",
       "         ...,\n",
       "         [2.3283064e-10, 2.3283064e-10, 2.3283064e-10, ...,\n",
       "          2.3283064e-10, 2.3283064e-10, 2.3283064e-10],\n",
       "         [2.3283064e-10, 2.3283064e-10, 2.3283064e-10, ...,\n",
       "          2.3283064e-10, 2.3283064e-10, 2.3283064e-10],\n",
       "         [2.3283064e-10, 2.3283064e-10, 2.3283064e-10, ...,\n",
       "          2.3283064e-10, 2.3283064e-10, 2.3283064e-10]]]], dtype=float32)"
      ]
     },
     "execution_count": 38,
     "metadata": {},
     "output_type": "execute_result"
    }
   ],
   "source": [
    "(img - rgb.numpy())**2"
   ]
  },
  {
   "cell_type": "code",
   "execution_count": 25,
   "metadata": {},
   "outputs": [
    {
     "data": {
      "text/plain": [
       "151.9373779296875"
      ]
     },
     "execution_count": 25,
     "metadata": {},
     "output_type": "execute_result"
    }
   ],
   "source": []
  },
  {
   "cell_type": "code",
   "execution_count": null,
   "metadata": {},
   "outputs": [],
   "source": []
  }
 ],
 "metadata": {
  "kernelspec": {
   "display_name": "Python 2",
   "language": "python",
   "name": "python2"
  },
  "language_info": {
   "codemirror_mode": {
    "name": "ipython",
    "version": 2
   },
   "file_extension": ".py",
   "mimetype": "text/x-python",
   "name": "python",
   "nbconvert_exporter": "python",
   "pygments_lexer": "ipython2",
   "version": "2.7.15"
  }
 },
 "nbformat": 4,
 "nbformat_minor": 2
}
